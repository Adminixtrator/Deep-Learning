{
  "nbformat": 4,
  "nbformat_minor": 0,
  "metadata": {
    "colab": {
      "name": "pytesseract_img_str.ipynb",
      "provenance": [],
      "authorship_tag": "ABX9TyNaBBpAfLGAq3NmnxPez41p",
      "include_colab_link": true
    },
    "kernelspec": {
      "name": "python3",
      "display_name": "Python 3"
    }
  },
  "cells": [
    {
      "cell_type": "markdown",
      "metadata": {
        "id": "view-in-github",
        "colab_type": "text"
      },
      "source": [
        "<a href=\"https://colab.research.google.com/github/sambit9238/Deep-Learning/blob/master/pytesseract_img_str.ipynb\" target=\"_parent\"><img src=\"https://colab.research.google.com/assets/colab-badge.svg\" alt=\"Open In Colab\"/></a>"
      ]
    },
    {
      "cell_type": "code",
      "metadata": {
        "colab": {
          "base_uri": "https://localhost:8080/"
        },
        "id": "SWeDS9V1Vny3",
        "outputId": "01620632-18c5-49d9-a1e1-7d5e6d886f27"
      },
      "source": [
        "!pip3 install pytesseract\n",
        "!pip3 install pillow"
      ],
      "execution_count": 2,
      "outputs": [
        {
          "output_type": "stream",
          "text": [
            "Collecting pytesseract\n",
            "  Downloading https://files.pythonhosted.org/packages/a0/e6/a4e9fc8a93c1318540e8de6d8d4beb5749b7960388a7c7f27799fc2dd016/pytesseract-0.3.7.tar.gz\n",
            "Requirement already satisfied: Pillow in /usr/local/lib/python3.6/dist-packages (from pytesseract) (7.0.0)\n",
            "Building wheels for collected packages: pytesseract\n",
            "  Building wheel for pytesseract (setup.py) ... \u001b[?25l\u001b[?25hdone\n",
            "  Created wheel for pytesseract: filename=pytesseract-0.3.7-py2.py3-none-any.whl size=13945 sha256=8eeabcfb5e64aab241a9838933b04532c2b2a194ed69709b0acbef04ba65afa9\n",
            "  Stored in directory: /root/.cache/pip/wheels/81/20/7e/1dd0daad1575d5260916bb1e9781246430647adaef4b3ca3b3\n",
            "Successfully built pytesseract\n",
            "Installing collected packages: pytesseract\n",
            "Successfully installed pytesseract-0.3.7\n",
            "Requirement already satisfied: pillow in /usr/local/lib/python3.6/dist-packages (7.0.0)\n"
          ],
          "name": "stdout"
        }
      ]
    },
    {
      "cell_type": "code",
      "metadata": {
        "colab": {
          "base_uri": "https://localhost:8080/"
        },
        "id": "QFtENmUbzSkx",
        "outputId": "49274d85-4449-4bef-9eb0-10b07c093543"
      },
      "source": [
        "!sudo apt update\n",
        "!sudo apt install tesseract-ocr\n",
        "!sudo apt install libtesseract-dev"
      ],
      "execution_count": 9,
      "outputs": [
        {
          "output_type": "stream",
          "text": [
            "\u001b[33m\r0% [Working]\u001b[0m\r            \rIgn:1 https://developer.download.nvidia.com/compute/cuda/repos/ubuntu1804/x86_64  InRelease\n",
            "\u001b[33m\r0% [Connecting to archive.ubuntu.com] [Connecting to security.ubuntu.com (91.18\u001b[0m\r                                                                               \rIgn:2 https://developer.download.nvidia.com/compute/machine-learning/repos/ubuntu1804/x86_64  InRelease\n",
            "\u001b[33m\r0% [Connecting to archive.ubuntu.com] [Connecting to security.ubuntu.com (91.18\u001b[0m\r                                                                               \rHit:3 https://developer.download.nvidia.com/compute/cuda/repos/ubuntu1804/x86_64  Release\n",
            "\u001b[33m\r0% [Connecting to archive.ubuntu.com] [Connecting to security.ubuntu.com (91.18\u001b[0m\u001b[33m\r0% [Release.gpg gpgv 697 B] [Connecting to archive.ubuntu.com (91.189.88.142)] \u001b[0m\r                                                                               \rHit:4 https://cloud.r-project.org/bin/linux/ubuntu bionic-cran40/ InRelease\n",
            "Hit:5 https://developer.download.nvidia.com/compute/machine-learning/repos/ubuntu1804/x86_64  Release\n",
            "Hit:7 http://security.ubuntu.com/ubuntu bionic-security InRelease\n",
            "Hit:9 http://archive.ubuntu.com/ubuntu bionic InRelease\n",
            "Hit:10 http://ppa.launchpad.net/alex-p/tesseract-ocr-devel/ubuntu bionic InRelease\n",
            "Hit:11 http://archive.ubuntu.com/ubuntu bionic-updates InRelease\n",
            "Hit:12 http://archive.ubuntu.com/ubuntu bionic-backports InRelease\n",
            "Hit:13 http://ppa.launchpad.net/c2d4u.team/c2d4u4.0+/ubuntu bionic InRelease\n",
            "Hit:14 http://ppa.launchpad.net/cran/libgit2/ubuntu bionic InRelease\n",
            "Hit:15 http://ppa.launchpad.net/graphics-drivers/ppa/ubuntu bionic InRelease\n",
            "Reading package lists... Done\n",
            "Building dependency tree       \n",
            "Reading state information... Done\n",
            "51 packages can be upgraded. Run 'apt list --upgradable' to see them.\n",
            "Reading package lists... Done\n",
            "Building dependency tree       \n",
            "Reading state information... Done\n",
            "The following additional packages will be installed:\n",
            "  libtesseract5 tesseract-ocr-eng tesseract-ocr-osd\n",
            "The following NEW packages will be installed:\n",
            "  libtesseract5 tesseract-ocr tesseract-ocr-eng tesseract-ocr-osd\n",
            "0 upgraded, 4 newly installed, 0 to remove and 51 not upgraded.\n",
            "Need to get 6,291 kB of archives.\n",
            "After this operation, 20.4 MB of additional disk space will be used.\n",
            "Get:1 http://ppa.launchpad.net/alex-p/tesseract-ocr-devel/ubuntu bionic/main amd64 libtesseract5 amd64 5.0.0~git4989-95b98042-1ppa1~bionic1 [1,283 kB]\n",
            "Get:2 http://ppa.launchpad.net/alex-p/tesseract-ocr-devel/ubuntu bionic/main amd64 tesseract-ocr-eng all 1:5.0.0~git39-6572757-2ppa1~bionic1 [1,590 kB]\n",
            "Get:3 http://ppa.launchpad.net/alex-p/tesseract-ocr-devel/ubuntu bionic/main amd64 tesseract-ocr-osd all 1:5.0.0~git39-6572757-2ppa1~bionic1 [2,991 kB]\n",
            "Get:4 http://ppa.launchpad.net/alex-p/tesseract-ocr-devel/ubuntu bionic/main amd64 tesseract-ocr amd64 5.0.0~git4989-95b98042-1ppa1~bionic1 [428 kB]\n",
            "Fetched 6,291 kB in 5s (1,377 kB/s)\n",
            "debconf: unable to initialize frontend: Dialog\n",
            "debconf: (No usable dialog-like program is installed, so the dialog based frontend cannot be used. at /usr/share/perl5/Debconf/FrontEnd/Dialog.pm line 76, <> line 4.)\n",
            "debconf: falling back to frontend: Readline\n",
            "debconf: unable to initialize frontend: Readline\n",
            "debconf: (This frontend requires a controlling tty.)\n",
            "debconf: falling back to frontend: Teletype\n",
            "dpkg-preconfigure: unable to re-open stdin: \n",
            "Selecting previously unselected package libtesseract5:amd64.\n",
            "(Reading database ... 146364 files and directories currently installed.)\n",
            "Preparing to unpack .../libtesseract5_5.0.0~git4989-95b98042-1ppa1~bionic1_amd64.deb ...\n",
            "Unpacking libtesseract5:amd64 (5.0.0~git4989-95b98042-1ppa1~bionic1) ...\n",
            "Selecting previously unselected package tesseract-ocr-eng.\n",
            "Preparing to unpack .../tesseract-ocr-eng_1%3a5.0.0~git39-6572757-2ppa1~bionic1_all.deb ...\n",
            "Unpacking tesseract-ocr-eng (1:5.0.0~git39-6572757-2ppa1~bionic1) ...\n",
            "Selecting previously unselected package tesseract-ocr-osd.\n",
            "Preparing to unpack .../tesseract-ocr-osd_1%3a5.0.0~git39-6572757-2ppa1~bionic1_all.deb ...\n",
            "Unpacking tesseract-ocr-osd (1:5.0.0~git39-6572757-2ppa1~bionic1) ...\n",
            "Selecting previously unselected package tesseract-ocr.\n",
            "Preparing to unpack .../tesseract-ocr_5.0.0~git4989-95b98042-1ppa1~bionic1_amd64.deb ...\n",
            "Unpacking tesseract-ocr (5.0.0~git4989-95b98042-1ppa1~bionic1) ...\n",
            "Setting up tesseract-ocr-osd (1:5.0.0~git39-6572757-2ppa1~bionic1) ...\n",
            "Setting up tesseract-ocr-eng (1:5.0.0~git39-6572757-2ppa1~bionic1) ...\n",
            "Setting up libtesseract5:amd64 (5.0.0~git4989-95b98042-1ppa1~bionic1) ...\n",
            "Setting up tesseract-ocr (5.0.0~git4989-95b98042-1ppa1~bionic1) ...\n",
            "Processing triggers for man-db (2.8.3-2ubuntu0.1) ...\n",
            "Processing triggers for libc-bin (2.27-3ubuntu1.3) ...\n",
            "/sbin/ldconfig.real: /usr/local/lib/python3.6/dist-packages/ideep4py/lib/libmkldnn.so.0 is not a symbolic link\n",
            "\n",
            "Reading package lists... Done\n",
            "Building dependency tree       \n",
            "Reading state information... Done\n",
            "The following additional packages will be installed:\n",
            "  libarchive-dev liblept5 libleptonica-dev\n",
            "The following NEW packages will be installed:\n",
            "  libarchive-dev libleptonica-dev libtesseract-dev\n",
            "The following packages will be upgraded:\n",
            "  liblept5\n",
            "1 upgraded, 3 newly installed, 0 to remove and 50 not upgraded.\n",
            "Need to get 4,335 kB of archives.\n",
            "After this operation, 15.2 MB of additional disk space will be used.\n",
            "Get:1 http://ppa.launchpad.net/alex-p/tesseract-ocr-devel/ubuntu bionic/main amd64 liblept5 amd64 1.78.0-1+nmu1ppa1~bionic1 [985 kB]\n",
            "Get:2 http://archive.ubuntu.com/ubuntu bionic-updates/main amd64 libarchive-dev amd64 3.2.2-3.1ubuntu0.6 [470 kB]\n",
            "Get:3 http://ppa.launchpad.net/alex-p/tesseract-ocr-devel/ubuntu bionic/main amd64 libleptonica-dev amd64 1.78.0-1+nmu1ppa1~bionic1 [1,375 kB]\n",
            "Get:4 http://ppa.launchpad.net/alex-p/tesseract-ocr-devel/ubuntu bionic/main amd64 libtesseract-dev amd64 5.0.0~git4989-95b98042-1ppa1~bionic1 [1,505 kB]\n",
            "Fetched 4,335 kB in 3s (1,316 kB/s)\n",
            "debconf: unable to initialize frontend: Dialog\n",
            "debconf: (No usable dialog-like program is installed, so the dialog based frontend cannot be used. at /usr/share/perl5/Debconf/FrontEnd/Dialog.pm line 76, <> line 4.)\n",
            "debconf: falling back to frontend: Readline\n",
            "debconf: unable to initialize frontend: Readline\n",
            "debconf: (This frontend requires a controlling tty.)\n",
            "debconf: falling back to frontend: Teletype\n",
            "dpkg-preconfigure: unable to re-open stdin: \n",
            "Selecting previously unselected package libarchive-dev:amd64.\n",
            "(Reading database ... 146452 files and directories currently installed.)\n",
            "Preparing to unpack .../libarchive-dev_3.2.2-3.1ubuntu0.6_amd64.deb ...\n",
            "Unpacking libarchive-dev:amd64 (3.2.2-3.1ubuntu0.6) ...\n",
            "Preparing to unpack .../liblept5_1.78.0-1+nmu1ppa1~bionic1_amd64.deb ...\n",
            "Unpacking liblept5 (1.78.0-1+nmu1ppa1~bionic1) over (1.75.3-3) ...\n",
            "Selecting previously unselected package libleptonica-dev.\n",
            "Preparing to unpack .../libleptonica-dev_1.78.0-1+nmu1ppa1~bionic1_amd64.deb ...\n",
            "Unpacking libleptonica-dev (1.78.0-1+nmu1ppa1~bionic1) ...\n",
            "Selecting previously unselected package libtesseract-dev:amd64.\n",
            "Preparing to unpack .../libtesseract-dev_5.0.0~git4989-95b98042-1ppa1~bionic1_amd64.deb ...\n",
            "Unpacking libtesseract-dev:amd64 (5.0.0~git4989-95b98042-1ppa1~bionic1) ...\n",
            "Setting up liblept5 (1.78.0-1+nmu1ppa1~bionic1) ...\n",
            "Setting up libarchive-dev:amd64 (3.2.2-3.1ubuntu0.6) ...\n",
            "Setting up libleptonica-dev (1.78.0-1+nmu1ppa1~bionic1) ...\n",
            "Setting up libtesseract-dev:amd64 (5.0.0~git4989-95b98042-1ppa1~bionic1) ...\n",
            "Processing triggers for libc-bin (2.27-3ubuntu1.3) ...\n",
            "/sbin/ldconfig.real: /usr/local/lib/python3.6/dist-packages/ideep4py/lib/libmkldnn.so.0 is not a symbolic link\n",
            "\n",
            "Processing triggers for man-db (2.8.3-2ubuntu0.1) ...\n"
          ],
          "name": "stdout"
        }
      ]
    },
    {
      "cell_type": "code",
      "metadata": {
        "id": "ZwRmLqmlWE7b"
      },
      "source": [
        "try:\n",
        "    from PIL import Image\n",
        "except ImportError:\n",
        "    import Image\n",
        "import pytesseract\n",
        "\n",
        "def ocr_core(filename):\n",
        "    \"\"\"\n",
        "    This function will handle the core OCR processing of images.\n",
        "    \"\"\"\n",
        "    text = pytesseract.image_to_string(Image.open(filename))  # We'll use Pillow's Image class to open the image and pytesseract to detect the string in the image\n",
        "    return text"
      ],
      "execution_count": 7,
      "outputs": []
    },
    {
      "cell_type": "code",
      "metadata": {
        "colab": {
          "base_uri": "https://localhost:8080/"
        },
        "id": "C_e3txmCyjko",
        "outputId": "40af0c55-9b5e-4afe-a3c4-bf7ba4a9bd1b"
      },
      "source": [
        "print(ocr_core('colab_pro_nov.png'))"
      ],
      "execution_count": 10,
      "outputs": [
        {
          "output_type": "stream",
          "text": [
            "Google\n",
            "\n",
            "Nov 6, 2020, 9:33 PM\n",
            "\n",
            " \n",
            "\n",
            "Item Price (USD)\n",
            "Colab purchase $9.99\n",
            "Colab Pro\n",
            "\n",
            "Total $9.99\n",
            "\n",
            "Payment method\n",
            "\n",
            "Visa:\n",
            "\n",
            " \n",
            "\n",
            "0314\n",
            "\n",
            "Transaction ID\n",
            "\n",
            "COLSUB.5887-6594-1439-53207.5\n",
            "\f\n"
          ],
          "name": "stdout"
        }
      ]
    },
    {
      "cell_type": "code",
      "metadata": {
        "id": "kkcWuqs-yxuE"
      },
      "source": [
        ""
      ],
      "execution_count": null,
      "outputs": []
    }
  ]
}