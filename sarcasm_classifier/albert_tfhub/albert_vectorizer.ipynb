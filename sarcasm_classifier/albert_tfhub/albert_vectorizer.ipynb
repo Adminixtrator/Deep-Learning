{
 "cells": [
  {
   "cell_type": "code",
   "execution_count": 1,
   "metadata": {},
   "outputs": [],
   "source": [
    "#tensorflow==2.2.0\n",
    "#tensorflow_hub=0.8.0\n",
    "#sentencepiece==0.1.91\n",
    "#tqdm==4.47.0\n",
    "#seaborn==0.10.1\n",
    "#numpy==1.19.0"
   ]
  },
  {
   "cell_type": "code",
   "execution_count": 2,
   "metadata": {},
   "outputs": [],
   "source": [
    "import tensorflow as tf \n",
    "import tensorflow_hub as hub\n",
    "import sentencepiece as spm\n",
    "import six\n",
    "\n",
    "from functools import wraps\n",
    "import time\n",
    "from tqdm import tqdm\n",
    "import matplotlib.pyplot as plt\n",
    "import numpy as np\n",
    "import seaborn as sns"
   ]
  },
  {
   "cell_type": "code",
   "execution_count": 3,
   "metadata": {},
   "outputs": [],
   "source": [
    "def timethis(func):\n",
    "   @wraps(func)\n",
    "   def wrapper(*args, **kwargs):\n",
    "       start = time.time()\n",
    "       result = func(*args, **kwargs)\n",
    "       end = time.time()\n",
    "       print(func.__name__, end-start)\n",
    "       return result\n",
    "   return wrapper\n"
   ]
  },
  {
   "cell_type": "code",
   "execution_count": 4,
   "metadata": {},
   "outputs": [],
   "source": [
    "# mkdir albert_en_base\n",
    "# mkdir 1\n",
    "# wget https://tfhub.dev/tensorflow/albert_en_base/1https://tfhub.dev/tensorflow/albert_en_base/1\n",
    "# tar-xzf albert_en_base_1.tar.gztar-xzf albert_en_base_1.tar.gz\n",
    "# rm -rf albert_en_base_1.tar.gzrm -rf albert_en_base_1.tar.gz\n",
    "albert_layer = hub.KerasLayer(\"albert_en_base/1\", trainable=False)"
   ]
  },
  {
   "cell_type": "code",
   "execution_count": 19,
   "metadata": {},
   "outputs": [],
   "source": [
    "#Referred from https://github.com/tensorflow/models/blob/master/official/nlp/bert/tokenization.pyhttps://github.com/tensorflow/models/blob/master/official/nlp/bert/tokenization.py\n",
    "def printable_text(text):\n",
    "  \"\"\"Returns text encoded in a way suitable for print or `tf.logging`.\"\"\"\n",
    "  if isinstance(text, str):\n",
    "    return text\n",
    "  elif isinstance(text, bytes):\n",
    "    return text.decode(\"utf-8\", \"ignore\")\n",
    "  else:\n",
    "    raise ValueError(\"Unsupported string type: %s\" % (type(text)))\n",
    "\n",
    "def encode_pieces(sp_model, text, sample=False):\n",
    "  \"\"\"Segements text into pieces.\n",
    "  Args:\n",
    "    sp_model: A spm.SentencePieceProcessor object.\n",
    "    text: The input text to be segemented.\n",
    "    sample: Whether to randomly sample a segmentation output or return a\n",
    "      deterministic one.\n",
    "  Returns:\n",
    "    A list of token pieces.\n",
    "  \"\"\"\n",
    "  if not sample:\n",
    "    pieces = sp_model.EncodeAsPieces(text)\n",
    "  else:\n",
    "    pieces = sp_model.SampleEncodeAsPieces(text, 64, 0.1)\n",
    "  new_pieces = []\n",
    "  for piece in pieces:\n",
    "    piece = printable_text(piece)\n",
    "    if len(piece) > 1 and piece[-1] == \",\" and piece[-2].isdigit():\n",
    "      cur_pieces = sp_model.EncodeAsPieces(piece[:-1].replace(\n",
    "          SPIECE_UNDERLINE, \"\"))\n",
    "      if piece[0] != SPIECE_UNDERLINE and cur_pieces[0][0] == SPIECE_UNDERLINE:\n",
    "        if len(cur_pieces[0]) == 1:\n",
    "          cur_pieces = cur_pieces[1:]\n",
    "        else:\n",
    "          cur_pieces[0] = cur_pieces[0][1:]\n",
    "      cur_pieces.append(piece[-1])\n",
    "      new_pieces.extend(cur_pieces)\n",
    "    else:\n",
    "      new_pieces.append(piece)\n",
    "\n",
    "  return new_pieces"
   ]
  },
  {
   "cell_type": "code",
   "execution_count": 20,
   "metadata": {},
   "outputs": [],
   "source": [
    "@timethis\n",
    "class FullSentencePieceTokenizer(object):\n",
    "  \"\"\"Runs end-to-end sentence piece tokenization.\n",
    "  The interface of this class is intended to keep the same as above\n",
    "  `FullTokenizer` class for easier usage.\n",
    "  \"\"\"\n",
    "\n",
    "  def __init__(self, sp_model_file):\n",
    "    \"\"\"Inits FullSentencePieceTokenizer.\n",
    "    Args:\n",
    "      sp_model_file: The path to the sentence piece model file.\n",
    "    \"\"\"\n",
    "    self.sp_model = spm.SentencePieceProcessor()\n",
    "    self.sp_model.Load(sp_model_file)\n",
    "    self.vocab = {\n",
    "        self.sp_model.IdToPiece(i): i\n",
    "        for i in six.moves.range(self.sp_model.GetPieceSize())\n",
    "    }\n",
    "\n",
    "  def tokenize(self, text):\n",
    "    \"\"\"Tokenizes text into pieces.\"\"\"\n",
    "    return encode_pieces(self.sp_model, text)\n",
    "\n",
    "  def convert_tokens_to_ids(self, tokens):\n",
    "    \"\"\"Converts a list of tokens to a list of ids.\"\"\"\n",
    "    return [self.sp_model.PieceToId(printable_text(token)) for token in tokens]\n",
    "\n",
    "  def convert_ids_to_tokens(self, ids):\n",
    "    \"\"\"Converts a list of ids ot a list of tokens.\"\"\"\n",
    "    return [self.sp_model.IdToPiece(id_) for id_ in ids]"
   ]
  },
  {
   "cell_type": "code",
   "execution_count": 21,
   "metadata": {},
   "outputs": [],
   "source": [
    "def get_ids(tokens, tokenizer, max_seq_length):\n",
    "    \"\"\"Token ids from Tokenizer vocab\"\"\"\n",
    "    token_ids = tokenizer.convert_tokens_to_ids(tokens,)\n",
    "    input_ids = token_ids + [0] * (max_seq_length-len(token_ids))\n",
    "    return input_ids"
   ]
  },
  {
   "cell_type": "code",
   "execution_count": 22,
   "metadata": {},
   "outputs": [],
   "source": [
    "def get_masks(tokens, max_seq_length):\n",
    "    return [1]*len(tokens) + [0] * (max_seq_length - len(tokens))"
   ]
  },
  {
   "cell_type": "code",
   "execution_count": 23,
   "metadata": {},
   "outputs": [],
   "source": [
    "def get_segments(tokens, max_seq_length):\n",
    "    \"\"\"Segments: 0 for the first sequence, 1 for the second\"\"\"\n",
    "    segments = []\n",
    "    current_segment_id = 0\n",
    "    for token in tokens:\n",
    "        segments.append(current_segment_id)\n",
    "        if token == \"[SEP]\":\n",
    "            current_segment_id = 1\n",
    "    return segments + [0] * (max_seq_length - len(tokens))"
   ]
  },
  {
   "cell_type": "code",
   "execution_count": 13,
   "metadata": {},
   "outputs": [],
   "source": [
    "sentence = \"I am amazed\""
   ]
  },
  {
   "cell_type": "code",
   "execution_count": 10,
   "metadata": {
    "tags": []
   },
   "outputs": [
    {
     "output_type": "stream",
     "name": "stdout",
     "text": "FullSentencePieceTokenizer 0.12377095222473145\n"
    }
   ],
   "source": [
    "sp_model_file = albert_layer.resolved_object.sp_model_file.asset_path.numpy()\n",
    "tokenizer = FullSentencePieceTokenizer(sp_model_file)"
   ]
  },
  {
   "cell_type": "code",
   "execution_count": 14,
   "metadata": {},
   "outputs": [],
   "source": [
    "stokens = tokenizer.tokenize(sentence)"
   ]
  },
  {
   "cell_type": "code",
   "execution_count": 15,
   "metadata": {},
   "outputs": [],
   "source": [
    "MAX_LEN = 20"
   ]
  },
  {
   "cell_type": "code",
   "execution_count": 16,
   "metadata": {},
   "outputs": [],
   "source": [
    "stokens = stokens[:MAX_LEN]\n",
    "stokens = [\"[CLS]\"] + stokens + [\"[SEP]\"]"
   ]
  },
  {
   "cell_type": "code",
   "execution_count": 17,
   "metadata": {},
   "outputs": [
    {
     "output_type": "execute_result",
     "data": {
      "text/plain": "['[CLS]', '▁', 'I', '▁am', '▁amazed', '[SEP]']"
     },
     "metadata": {},
     "execution_count": 17
    }
   ],
   "source": [
    "stokens"
   ]
  },
  {
   "cell_type": "code",
   "execution_count": 25,
   "metadata": {},
   "outputs": [],
   "source": [
    "MAX_LEN = 20\n",
    "MAX_SEQ_LEN= MAX_LEN + 2"
   ]
  },
  {
   "cell_type": "code",
   "execution_count": 26,
   "metadata": {},
   "outputs": [],
   "source": [
    "ids = get_ids(stokens, tokenizer, MAX_SEQ_LEN)\n",
    "masks = get_masks(stokens, MAX_SEQ_LEN)\n",
    "segments = get_segments(stokens, MAX_SEQ_LEN)"
   ]
  },
  {
   "cell_type": "code",
   "execution_count": 59,
   "metadata": {},
   "outputs": [
    {
     "output_type": "execute_result",
     "data": {
      "text/plain": "[2, 13, 1, 589, 17378, 3, 0, 0, 0, 0, 0, 0, 0, 0, 0, 0, 0, 0, 0, 0, 0, 0]"
     },
     "metadata": {},
     "execution_count": 59
    }
   ],
   "source": [
    "ids"
   ]
  },
  {
   "cell_type": "code",
   "execution_count": 60,
   "metadata": {},
   "outputs": [
    {
     "output_type": "execute_result",
     "data": {
      "text/plain": "[1, 1, 1, 1, 1, 1, 0, 0, 0, 0, 0, 0, 0, 0, 0, 0, 0, 0, 0, 0, 0, 0]"
     },
     "metadata": {},
     "execution_count": 60
    }
   ],
   "source": [
    "masks"
   ]
  },
  {
   "cell_type": "code",
   "execution_count": 61,
   "metadata": {},
   "outputs": [
    {
     "output_type": "execute_result",
     "data": {
      "text/plain": "[0, 0, 0, 0, 0, 0, 0, 0, 0, 0, 0, 0, 0, 0, 0, 0, 0, 0, 0, 0, 0, 0]"
     },
     "metadata": {},
     "execution_count": 61
    }
   ],
   "source": [
    "segments"
   ]
  },
  {
   "cell_type": "code",
   "execution_count": 70,
   "metadata": {},
   "outputs": [],
   "source": [
    "#@timethis\n",
    "def create_single_input(sentence, MAX_LEN, MAX_SEQ_LEN):\n",
    "    stokens = tokenizer.tokenize(sentence)\n",
    "    stokens = stokens[:MAX_LEN]\n",
    "    stokens = [\"[CLS]\"] + stokens + [\"[SEP]\"]\n",
    "\n",
    "    ids = get_ids(stokens, tokenizer, MAX_SEQ_LEN)\n",
    "    masks = get_masks(stokens, MAX_SEQ_LEN)\n",
    "    segments = get_segments(stokens, MAX_SEQ_LEN)\n",
    "\n",
    "    return ids,masks,segments"
   ]
  },
  {
   "cell_type": "code",
   "execution_count": 28,
   "metadata": {},
   "outputs": [
    {
     "output_type": "execute_result",
     "data": {
      "text/plain": "['▁the',\n '▁body',\n '▁is',\n '▁made',\n '▁of',\n '▁metallic',\n 'a',\n '▁and',\n '▁deliver',\n 'i',\n '▁high',\n '▁tension']"
     },
     "metadata": {},
     "execution_count": 28
    }
   ],
   "source": [
    "stokens = tokenizer.tokenize(\"the body is made of metallica and deliveri high tension\")\n",
    "stokens"
   ]
  },
  {
   "cell_type": "code",
   "execution_count": 43,
   "metadata": {},
   "outputs": [],
   "source": [
    "max_seq_length = MAX_SEQ_LEN"
   ]
  },
  {
   "cell_type": "code",
   "execution_count": 44,
   "metadata": {},
   "outputs": [],
   "source": [
    "@timethis\n",
    "def get_model():\n",
    "    input_word_ids = tf.keras.layers.Input(shape=(MAX_SEQ_LEN,), dtype=tf.int32,\n",
    "                                       name=\"input_word_ids\")\n",
    "    input_mask = tf.keras.layers.Input(shape=(MAX_SEQ_LEN,), dtype=tf.int32,\n",
    "                                   name=\"input_mask\")\n",
    "    segment_ids = tf.keras.layers.Input(shape=(MAX_SEQ_LEN,), dtype=tf.int32,\n",
    "                                    name=\"segment_ids\")\n",
    "    pooled_output, sequence_output = albert_layer([input_word_ids, input_mask, segment_ids])\n",
    "    model = tf.keras.models.Model(inputs=[input_word_ids, input_mask, segment_ids], outputs=[pooled_output, sequence_output])\n",
    "    return model\n"
   ]
  },
  {
   "cell_type": "code",
   "execution_count": 45,
   "metadata": {
    "tags": []
   },
   "outputs": [
    {
     "output_type": "stream",
     "name": "stdout",
     "text": "get_model 0.02585434913635254\n"
    }
   ],
   "source": [
    "albert_model = get_model()"
   ]
  },
  {
   "cell_type": "code",
   "execution_count": 46,
   "metadata": {
    "tags": []
   },
   "outputs": [
    {
     "output_type": "stream",
     "name": "stdout",
     "text": "Model: \"model_2\"\n__________________________________________________________________________________________________\nLayer (type)                    Output Shape         Param #     Connected to                     \n==================================================================================================\ninput_word_ids (InputLayer)     [(None, 22)]         0                                            \n__________________________________________________________________________________________________\ninput_mask (InputLayer)         [(None, 22)]         0                                            \n__________________________________________________________________________________________________\nsegment_ids (InputLayer)        [(None, 22)]         0                                            \n__________________________________________________________________________________________________\nkeras_layer (KerasLayer)        [(None, 768), (None, 11683584    input_word_ids[0][0]             \n                                                                 input_mask[0][0]                 \n                                                                 segment_ids[0][0]                \n==================================================================================================\nTotal params: 11,683,584\nTrainable params: 0\nNon-trainable params: 11,683,584\n__________________________________________________________________________________________________\n"
    }
   ],
   "source": [
    "albert_model.summary()"
   ]
  },
  {
   "cell_type": "code",
   "execution_count": 47,
   "metadata": {},
   "outputs": [
    {
     "output_type": "execute_result",
     "data": {
      "text/plain": "768"
     },
     "metadata": {},
     "execution_count": 47
    }
   ],
   "source": [
    "768"
   ]
  },
  {
   "cell_type": "code",
   "execution_count": 54,
   "metadata": {},
   "outputs": [],
   "source": [
    "s = \"This is a nice sentence.\"\n",
    "def get_albert_vec(s):\n",
    "    stokens = tokenizer.tokenize(s)\n",
    "    stokens = [\"[CLS]\"] + stokens + [\"[SEP]\"]\n",
    "    ids = get_ids(stokens, tokenizer, MAX_SEQ_LEN)\n",
    "    masks = get_masks(stokens, MAX_SEQ_LEN)\n",
    "    segments = get_segments(stokens, MAX_SEQ_LEN)\n",
    "    input_ids = np.asarray(ids, dtype=np.int32).reshape(1,22)\n",
    "    input_masks = np.asarray(masks, dtype=np.int32).reshape(1,22)\n",
    "    input_segments = np.asarray(segments, dtype=np.int32).reshape(1,22)\n",
    "    return input_ids, input_masks, input_segments\n",
    "input_ids, input_masks, input_segments = get_albert_vec(s)"
   ]
  },
  {
   "cell_type": "code",
   "execution_count": 55,
   "metadata": {
    "tags": []
   },
   "outputs": [
    {
     "output_type": "stream",
     "name": "stdout",
     "text": "CPU times: user 496 ms, sys: 6.11 ms, total: 502 ms\nWall time: 165 ms\n"
    },
    {
     "output_type": "execute_result",
     "data": {
      "text/plain": "(1, 768)"
     },
     "metadata": {},
     "execution_count": 55
    }
   ],
   "source": [
    "%%time\n",
    "pool_embs, word_embs = albert_model.predict(\n",
    "    [[input_ids, input_masks, input_segments]]\n",
    ")\n",
    "pool_embs.shape"
   ]
  },
  {
   "cell_type": "code",
   "execution_count": 56,
   "metadata": {},
   "outputs": [
    {
     "output_type": "execute_result",
     "data": {
      "text/plain": "(1, 22, 768)"
     },
     "metadata": {},
     "execution_count": 56
    }
   ],
   "source": [
    "word_embs.shape"
   ]
  },
  {
   "cell_type": "code",
   "execution_count": 71,
   "metadata": {},
   "outputs": [],
   "source": [
    "#@timethis\n",
    "def create_input_array(sentences):\n",
    "    input_ids, input_masks, input_segments = [], [], []\n",
    "\n",
    "    for sentence in tqdm(sentences,position=0, leave=True):\n",
    "        ids,masks,segments=create_single_input(sentence,MAX_LEN, MAX_SEQ_LEN)\n",
    "        input_ids.append(ids)\n",
    "        input_masks.append(masks)\n",
    "        input_segments.append(segments)\n",
    "\n",
    "    return [tf.constant(input_ids, dtype=np.int32), \n",
    "            tf.constant(input_masks, dtype=np.int32), \n",
    "            tf.constant(input_segments, dtype=np.int32)]"
   ]
  },
  {
   "cell_type": "code",
   "execution_count": 72,
   "metadata": {},
   "outputs": [],
   "source": [
    "def plot_similarity(labels, features, rotation):\n",
    "  corr = np.inner(features, features)\n",
    "  print(corr)\n",
    "  sns.set(font_scale=1.2)\n",
    "  g = sns.heatmap(\n",
    "      corr,\n",
    "      xticklabels=labels,\n",
    "      yticklabels=labels,\n",
    "      vmin=0.5,\n",
    "      vmax=1,\n",
    "      cmap=\"YlOrRd\")\n",
    "  g.set_xticklabels(labels, rotation=rotation)\n",
    "  g.set_title(\"Semantic Textual Similarity\")\n",
    "\n",
    "def run_and_plot(messages_):\n",
    "  tmp_ip = create_input_array(messages_)\n",
    "  message_embeddings_, _  = albert_model.predict(tmp_ip)\n",
    "  message_embeddings_  = tf.nn.l2_normalize(message_embeddings_, axis=1)\n",
    "  plot_similarity(messages_, message_embeddings_, 90)"
   ]
  },
  {
   "cell_type": "code",
   "execution_count": 73,
   "metadata": {
    "tags": []
   },
   "outputs": [
    {
     "output_type": "stream",
     "name": "stderr",
     "text": "100%|██████████| 6/6 [00:00<00:00, 7793.69it/s]\n[[0.9999999  0.9238588  0.8991361  0.7740376  0.91989684 0.6788115 ]\n [0.9238588  0.99999976 0.9521425  0.7492999  0.986135   0.64105654]\n [0.8991361  0.9521425  0.99999994 0.84353626 0.94950557 0.7046951 ]\n [0.7740376  0.7492999  0.84353626 1.0000001  0.7775355  0.8934795 ]\n [0.91989684 0.986135   0.94950557 0.7775355  1.0000001  0.68906575]\n [0.6788115  0.64105654 0.7046951  0.8934795  0.68906575 1.0000002 ]]\n"
    },
    {
     "output_type": "display_data",
     "data": {
      "text/plain": "<Figure size 432x288 with 2 Axes>",
      "image/svg+xml": "<?xml version=\"1.0\" encoding=\"utf-8\" standalone=\"no\"?>\n<!DOCTYPE svg PUBLIC \"-//W3C//DTD SVG 1.1//EN\"\n  \"http://www.w3.org/Graphics/SVG/1.1/DTD/svg11.dtd\">\n<!-- Created with matplotlib (https://matplotlib.org/) -->\n<svg height=\"511.67525pt\" version=\"1.1\" viewBox=\"0 0 601.0525 511.67525\" width=\"601.0525pt\" xmlns=\"http://www.w3.org/2000/svg\" xmlns:xlink=\"http://www.w3.org/1999/xlink\">\n <defs>\n  <style type=\"text/css\">\n*{stroke-linecap:butt;stroke-linejoin:round;}\n  </style>\n </defs>\n <g id=\"figure_1\">\n  <g id=\"patch_1\">\n   <path d=\"M 0 511.67525 \nL 601.0525 511.67525 \nL 601.0525 0 \nL 0 0 \nz\n\" style=\"fill:#ffffff;\"/>\n  </g>\n  <g id=\"axes_1\">\n   <g id=\"patch_2\">\n    <path d=\"M 270.5525 241.12275 \nL 538.3925 241.12275 \nL 538.3925 23.68275 \nL 270.5525 23.68275 \nz\n\" style=\"fill:#eaeaf2;\"/>\n   </g>\n   <g id=\"matplotlib.axis_1\">\n    <g id=\"xtick_1\">\n     <g id=\"text_1\">\n      <!-- I like my phone -->\n      <defs>\n       <path d=\"M 9.328125 0 \nL 9.328125 71.578125 \nL 18.796875 71.578125 \nL 18.796875 0 \nz\n\" id=\"ArialMT-73\"/>\n       <path id=\"ArialMT-32\"/>\n       <path d=\"M 6.390625 0 \nL 6.390625 71.578125 \nL 15.1875 71.578125 \nL 15.1875 0 \nz\n\" id=\"ArialMT-108\"/>\n       <path d=\"M 6.640625 61.46875 \nL 6.640625 71.578125 \nL 15.4375 71.578125 \nL 15.4375 61.46875 \nz\nM 6.640625 0 \nL 6.640625 51.859375 \nL 15.4375 51.859375 \nL 15.4375 0 \nz\n\" id=\"ArialMT-105\"/>\n       <path d=\"M 6.640625 0 \nL 6.640625 71.578125 \nL 15.4375 71.578125 \nL 15.4375 30.765625 \nL 36.234375 51.859375 \nL 47.609375 51.859375 \nL 27.78125 32.625 \nL 49.609375 0 \nL 38.765625 0 \nL 21.625 26.515625 \nL 15.4375 20.5625 \nL 15.4375 0 \nz\n\" id=\"ArialMT-107\"/>\n       <path d=\"M 42.09375 16.703125 \nL 51.171875 15.578125 \nQ 49.03125 7.625 43.21875 3.21875 \nQ 37.40625 -1.171875 28.375 -1.171875 \nQ 17 -1.171875 10.328125 5.828125 \nQ 3.65625 12.84375 3.65625 25.484375 \nQ 3.65625 38.578125 10.390625 45.796875 \nQ 17.140625 53.03125 27.875 53.03125 \nQ 38.28125 53.03125 44.875 45.953125 \nQ 51.46875 38.875 51.46875 26.03125 \nQ 51.46875 25.25 51.421875 23.6875 \nL 12.75 23.6875 \nQ 13.234375 15.140625 17.578125 10.59375 \nQ 21.921875 6.0625 28.421875 6.0625 \nQ 33.25 6.0625 36.671875 8.59375 \nQ 40.09375 11.140625 42.09375 16.703125 \nz\nM 13.234375 30.90625 \nL 42.1875 30.90625 \nQ 41.609375 37.453125 38.875 40.71875 \nQ 34.671875 45.796875 27.984375 45.796875 \nQ 21.921875 45.796875 17.796875 41.75 \nQ 13.671875 37.703125 13.234375 30.90625 \nz\n\" id=\"ArialMT-101\"/>\n       <path d=\"M 6.59375 0 \nL 6.59375 51.859375 \nL 14.453125 51.859375 \nL 14.453125 44.578125 \nQ 16.890625 48.390625 20.9375 50.703125 \nQ 25 53.03125 30.171875 53.03125 \nQ 35.9375 53.03125 39.625 50.640625 \nQ 43.3125 48.25 44.828125 43.953125 \nQ 50.984375 53.03125 60.84375 53.03125 \nQ 68.5625 53.03125 72.703125 48.75 \nQ 76.859375 44.484375 76.859375 35.59375 \nL 76.859375 0 \nL 68.109375 0 \nL 68.109375 32.671875 \nQ 68.109375 37.9375 67.25 40.25 \nQ 66.40625 42.578125 64.15625 43.984375 \nQ 61.921875 45.40625 58.890625 45.40625 \nQ 53.421875 45.40625 49.796875 41.765625 \nQ 46.1875 38.140625 46.1875 30.125 \nL 46.1875 0 \nL 37.40625 0 \nL 37.40625 33.6875 \nQ 37.40625 39.546875 35.25 42.46875 \nQ 33.109375 45.40625 28.21875 45.40625 \nQ 24.515625 45.40625 21.359375 43.453125 \nQ 18.21875 41.5 16.796875 37.734375 \nQ 15.375 33.984375 15.375 26.90625 \nL 15.375 0 \nz\n\" id=\"ArialMT-109\"/>\n       <path d=\"M 6.203125 -19.96875 \nL 5.21875 -11.71875 \nQ 8.109375 -12.5 10.25 -12.5 \nQ 13.1875 -12.5 14.9375 -11.515625 \nQ 16.703125 -10.546875 17.828125 -8.796875 \nQ 18.65625 -7.46875 20.515625 -2.25 \nQ 20.75 -1.515625 21.296875 -0.09375 \nL 1.609375 51.859375 \nL 11.078125 51.859375 \nL 21.875 21.828125 \nQ 23.96875 16.109375 25.640625 9.8125 \nQ 27.15625 15.875 29.25 21.625 \nL 40.328125 51.859375 \nL 49.125 51.859375 \nL 29.390625 -0.875 \nQ 26.21875 -9.421875 24.46875 -12.640625 \nQ 22.125 -17 19.09375 -19.015625 \nQ 16.0625 -21.046875 11.859375 -21.046875 \nQ 9.328125 -21.046875 6.203125 -19.96875 \nz\n\" id=\"ArialMT-121\"/>\n       <path d=\"M 6.59375 -19.875 \nL 6.59375 51.859375 \nL 14.59375 51.859375 \nL 14.59375 45.125 \nQ 17.4375 49.078125 21 51.046875 \nQ 24.5625 53.03125 29.640625 53.03125 \nQ 36.28125 53.03125 41.359375 49.609375 \nQ 46.4375 46.1875 49.015625 39.953125 \nQ 51.609375 33.734375 51.609375 26.3125 \nQ 51.609375 18.359375 48.75 11.984375 \nQ 45.90625 5.609375 40.453125 2.21875 \nQ 35.015625 -1.171875 29 -1.171875 \nQ 24.609375 -1.171875 21.109375 0.6875 \nQ 17.625 2.546875 15.375 5.375 \nL 15.375 -19.875 \nz\nM 14.546875 25.640625 \nQ 14.546875 15.625 18.59375 10.84375 \nQ 22.65625 6.0625 28.421875 6.0625 \nQ 34.28125 6.0625 38.453125 11.015625 \nQ 42.625 15.96875 42.625 26.375 \nQ 42.625 36.28125 38.546875 41.203125 \nQ 34.46875 46.140625 28.8125 46.140625 \nQ 23.1875 46.140625 18.859375 40.890625 \nQ 14.546875 35.640625 14.546875 25.640625 \nz\n\" id=\"ArialMT-112\"/>\n       <path d=\"M 6.59375 0 \nL 6.59375 71.578125 \nL 15.375 71.578125 \nL 15.375 45.90625 \nQ 21.53125 53.03125 30.90625 53.03125 \nQ 36.671875 53.03125 40.921875 50.75 \nQ 45.171875 48.484375 47 44.484375 \nQ 48.828125 40.484375 48.828125 32.859375 \nL 48.828125 0 \nL 40.046875 0 \nL 40.046875 32.859375 \nQ 40.046875 39.453125 37.1875 42.453125 \nQ 34.328125 45.453125 29.109375 45.453125 \nQ 25.203125 45.453125 21.75 43.421875 \nQ 18.3125 41.40625 16.84375 37.9375 \nQ 15.375 34.46875 15.375 28.375 \nL 15.375 0 \nz\n\" id=\"ArialMT-104\"/>\n       <path d=\"M 3.328125 25.921875 \nQ 3.328125 40.328125 11.328125 47.265625 \nQ 18.015625 53.03125 27.640625 53.03125 \nQ 38.328125 53.03125 45.109375 46.015625 \nQ 51.90625 39.015625 51.90625 26.65625 \nQ 51.90625 16.65625 48.90625 10.90625 \nQ 45.90625 5.171875 40.15625 2 \nQ 34.421875 -1.171875 27.640625 -1.171875 \nQ 16.75 -1.171875 10.03125 5.8125 \nQ 3.328125 12.796875 3.328125 25.921875 \nz\nM 12.359375 25.921875 \nQ 12.359375 15.96875 16.703125 11.015625 \nQ 21.046875 6.0625 27.640625 6.0625 \nQ 34.1875 6.0625 38.53125 11.03125 \nQ 42.875 16.015625 42.875 26.21875 \nQ 42.875 35.84375 38.5 40.796875 \nQ 34.125 45.75 27.640625 45.75 \nQ 21.046875 45.75 16.703125 40.8125 \nQ 12.359375 35.890625 12.359375 25.921875 \nz\n\" id=\"ArialMT-111\"/>\n       <path d=\"M 6.59375 0 \nL 6.59375 51.859375 \nL 14.5 51.859375 \nL 14.5 44.484375 \nQ 20.21875 53.03125 31 53.03125 \nQ 35.6875 53.03125 39.625 51.34375 \nQ 43.5625 49.65625 45.515625 46.921875 \nQ 47.46875 44.1875 48.25 40.4375 \nQ 48.734375 37.984375 48.734375 31.890625 \nL 48.734375 0 \nL 39.9375 0 \nL 39.9375 31.546875 \nQ 39.9375 36.921875 38.90625 39.578125 \nQ 37.890625 42.234375 35.28125 43.8125 \nQ 32.671875 45.40625 29.15625 45.40625 \nQ 23.53125 45.40625 19.453125 41.84375 \nQ 15.375 38.28125 15.375 28.328125 \nL 15.375 0 \nz\n\" id=\"ArialMT-110\"/>\n      </defs>\n      <g style=\"fill:#262626;\" transform=\"translate(296.207562 339.394813)rotate(-90)scale(0.132 -0.132)\">\n       <use xlink:href=\"#ArialMT-73\"/>\n       <use x=\"27.783203\" xlink:href=\"#ArialMT-32\"/>\n       <use x=\"55.566406\" xlink:href=\"#ArialMT-108\"/>\n       <use x=\"77.783203\" xlink:href=\"#ArialMT-105\"/>\n       <use x=\"100\" xlink:href=\"#ArialMT-107\"/>\n       <use x=\"150\" xlink:href=\"#ArialMT-101\"/>\n       <use x=\"205.615234\" xlink:href=\"#ArialMT-32\"/>\n       <use x=\"233.398438\" xlink:href=\"#ArialMT-109\"/>\n       <use x=\"316.699219\" xlink:href=\"#ArialMT-121\"/>\n       <use x=\"366.699219\" xlink:href=\"#ArialMT-32\"/>\n       <use x=\"394.482422\" xlink:href=\"#ArialMT-112\"/>\n       <use x=\"450.097656\" xlink:href=\"#ArialMT-104\"/>\n       <use x=\"505.712891\" xlink:href=\"#ArialMT-111\"/>\n       <use x=\"561.328125\" xlink:href=\"#ArialMT-110\"/>\n       <use x=\"616.943359\" xlink:href=\"#ArialMT-101\"/>\n      </g>\n     </g>\n    </g>\n    <g id=\"xtick_2\">\n     <g id=\"text_2\">\n      <!-- My phone is not good. -->\n      <defs>\n       <path d=\"M 7.421875 0 \nL 7.421875 71.578125 \nL 21.6875 71.578125 \nL 38.625 20.90625 \nQ 40.96875 13.8125 42.046875 10.296875 \nQ 43.265625 14.203125 45.84375 21.78125 \nL 62.984375 71.578125 \nL 75.734375 71.578125 \nL 75.734375 0 \nL 66.609375 0 \nL 66.609375 59.90625 \nL 45.796875 0 \nL 37.25 0 \nL 16.546875 60.9375 \nL 16.546875 0 \nz\n\" id=\"ArialMT-77\"/>\n       <path d=\"M 3.078125 15.484375 \nL 11.765625 16.84375 \nQ 12.5 11.625 15.84375 8.84375 \nQ 19.1875 6.0625 25.203125 6.0625 \nQ 31.25 6.0625 34.171875 8.515625 \nQ 37.109375 10.984375 37.109375 14.3125 \nQ 37.109375 17.28125 34.515625 19 \nQ 32.71875 20.171875 25.53125 21.96875 \nQ 15.875 24.421875 12.140625 26.203125 \nQ 8.40625 27.984375 6.46875 31.125 \nQ 4.546875 34.28125 4.546875 38.09375 \nQ 4.546875 41.546875 6.125 44.5 \nQ 7.71875 47.46875 10.453125 49.421875 \nQ 12.5 50.921875 16.03125 51.96875 \nQ 19.578125 53.03125 23.640625 53.03125 \nQ 29.734375 53.03125 34.34375 51.265625 \nQ 38.96875 49.515625 41.15625 46.5 \nQ 43.359375 43.5 44.1875 38.484375 \nL 35.59375 37.3125 \nQ 35.015625 41.3125 32.203125 43.546875 \nQ 29.390625 45.796875 24.265625 45.796875 \nQ 18.21875 45.796875 15.625 43.796875 \nQ 13.03125 41.796875 13.03125 39.109375 \nQ 13.03125 37.40625 14.109375 36.03125 \nQ 15.1875 34.625 17.484375 33.6875 \nQ 18.796875 33.203125 25.25 31.453125 \nQ 34.578125 28.953125 38.25 27.359375 \nQ 41.9375 25.78125 44.03125 22.75 \nQ 46.140625 19.734375 46.140625 15.234375 \nQ 46.140625 10.84375 43.578125 6.953125 \nQ 41.015625 3.078125 36.171875 0.953125 \nQ 31.34375 -1.171875 25.25 -1.171875 \nQ 15.140625 -1.171875 9.84375 3.03125 \nQ 4.546875 7.234375 3.078125 15.484375 \nz\n\" id=\"ArialMT-115\"/>\n       <path d=\"M 25.78125 7.859375 \nL 27.046875 0.09375 \nQ 23.34375 -0.6875 20.40625 -0.6875 \nQ 15.625 -0.6875 12.984375 0.828125 \nQ 10.359375 2.34375 9.28125 4.8125 \nQ 8.203125 7.28125 8.203125 15.1875 \nL 8.203125 45.015625 \nL 1.765625 45.015625 \nL 1.765625 51.859375 \nL 8.203125 51.859375 \nL 8.203125 64.703125 \nL 16.9375 69.96875 \nL 16.9375 51.859375 \nL 25.78125 51.859375 \nL 25.78125 45.015625 \nL 16.9375 45.015625 \nL 16.9375 14.703125 \nQ 16.9375 10.9375 17.40625 9.859375 \nQ 17.875 8.796875 18.921875 8.15625 \nQ 19.96875 7.515625 21.921875 7.515625 \nQ 23.390625 7.515625 25.78125 7.859375 \nz\n\" id=\"ArialMT-116\"/>\n       <path d=\"M 4.984375 -4.296875 \nL 13.53125 -5.5625 \nQ 14.0625 -9.515625 16.5 -11.328125 \nQ 19.78125 -13.765625 25.4375 -13.765625 \nQ 31.546875 -13.765625 34.859375 -11.328125 \nQ 38.1875 -8.890625 39.359375 -4.5 \nQ 40.046875 -1.8125 39.984375 6.78125 \nQ 34.234375 0 25.640625 0 \nQ 14.9375 0 9.078125 7.71875 \nQ 3.21875 15.4375 3.21875 26.21875 \nQ 3.21875 33.640625 5.90625 39.90625 \nQ 8.59375 46.1875 13.6875 49.609375 \nQ 18.796875 53.03125 25.6875 53.03125 \nQ 34.859375 53.03125 40.828125 45.609375 \nL 40.828125 51.859375 \nL 48.921875 51.859375 \nL 48.921875 7.03125 \nQ 48.921875 -5.078125 46.453125 -10.125 \nQ 44 -15.1875 38.640625 -18.109375 \nQ 33.296875 -21.046875 25.484375 -21.046875 \nQ 16.21875 -21.046875 10.5 -16.875 \nQ 4.78125 -12.703125 4.984375 -4.296875 \nz\nM 12.25 26.859375 \nQ 12.25 16.65625 16.296875 11.96875 \nQ 20.359375 7.28125 26.46875 7.28125 \nQ 32.515625 7.28125 36.609375 11.9375 \nQ 40.71875 16.609375 40.71875 26.5625 \nQ 40.71875 36.078125 36.5 40.90625 \nQ 32.28125 45.75 26.3125 45.75 \nQ 20.453125 45.75 16.34375 40.984375 \nQ 12.25 36.234375 12.25 26.859375 \nz\n\" id=\"ArialMT-103\"/>\n       <path d=\"M 40.234375 0 \nL 40.234375 6.546875 \nQ 35.296875 -1.171875 25.734375 -1.171875 \nQ 19.53125 -1.171875 14.328125 2.25 \nQ 9.125 5.671875 6.265625 11.796875 \nQ 3.421875 17.921875 3.421875 25.875 \nQ 3.421875 33.640625 6 39.96875 \nQ 8.59375 46.296875 13.765625 49.65625 \nQ 18.953125 53.03125 25.34375 53.03125 \nQ 30.03125 53.03125 33.6875 51.046875 \nQ 37.359375 49.078125 39.65625 45.90625 \nL 39.65625 71.578125 \nL 48.390625 71.578125 \nL 48.390625 0 \nz\nM 12.453125 25.875 \nQ 12.453125 15.921875 16.640625 10.984375 \nQ 20.84375 6.0625 26.5625 6.0625 \nQ 32.328125 6.0625 36.34375 10.765625 \nQ 40.375 15.484375 40.375 25.140625 \nQ 40.375 35.796875 36.265625 40.765625 \nQ 32.171875 45.75 26.171875 45.75 \nQ 20.3125 45.75 16.375 40.96875 \nQ 12.453125 36.1875 12.453125 25.875 \nz\n\" id=\"ArialMT-100\"/>\n       <path d=\"M 9.078125 0 \nL 9.078125 10.015625 \nL 19.09375 10.015625 \nL 19.09375 0 \nz\n\" id=\"ArialMT-46\"/>\n      </defs>\n      <g style=\"fill:#262626;\" transform=\"translate(340.847563 380.498375)rotate(-90)scale(0.132 -0.132)\">\n       <use xlink:href=\"#ArialMT-77\"/>\n       <use x=\"83.300781\" xlink:href=\"#ArialMT-121\"/>\n       <use x=\"133.300781\" xlink:href=\"#ArialMT-32\"/>\n       <use x=\"161.083984\" xlink:href=\"#ArialMT-112\"/>\n       <use x=\"216.699219\" xlink:href=\"#ArialMT-104\"/>\n       <use x=\"272.314453\" xlink:href=\"#ArialMT-111\"/>\n       <use x=\"327.929688\" xlink:href=\"#ArialMT-110\"/>\n       <use x=\"383.544922\" xlink:href=\"#ArialMT-101\"/>\n       <use x=\"439.160156\" xlink:href=\"#ArialMT-32\"/>\n       <use x=\"466.943359\" xlink:href=\"#ArialMT-105\"/>\n       <use x=\"489.160156\" xlink:href=\"#ArialMT-115\"/>\n       <use x=\"539.160156\" xlink:href=\"#ArialMT-32\"/>\n       <use x=\"566.943359\" xlink:href=\"#ArialMT-110\"/>\n       <use x=\"622.558594\" xlink:href=\"#ArialMT-111\"/>\n       <use x=\"678.173828\" xlink:href=\"#ArialMT-116\"/>\n       <use x=\"705.957031\" xlink:href=\"#ArialMT-32\"/>\n       <use x=\"733.740234\" xlink:href=\"#ArialMT-103\"/>\n       <use x=\"789.355469\" xlink:href=\"#ArialMT-111\"/>\n       <use x=\"844.970703\" xlink:href=\"#ArialMT-111\"/>\n       <use x=\"900.585938\" xlink:href=\"#ArialMT-100\"/>\n       <use x=\"956.201172\" xlink:href=\"#ArialMT-46\"/>\n      </g>\n     </g>\n    </g>\n    <g id=\"xtick_3\">\n     <g id=\"text_3\">\n      <!-- Recently a lot of hurricanes have hit the US -->\n      <defs>\n       <path d=\"M 7.859375 0 \nL 7.859375 71.578125 \nL 39.59375 71.578125 \nQ 49.171875 71.578125 54.140625 69.640625 \nQ 59.125 67.71875 62.109375 62.828125 \nQ 65.09375 57.953125 65.09375 52.046875 \nQ 65.09375 44.4375 60.15625 39.203125 \nQ 55.21875 33.984375 44.921875 32.5625 \nQ 48.6875 30.765625 50.640625 29 \nQ 54.78125 25.203125 58.5 19.484375 \nL 70.953125 0 \nL 59.03125 0 \nL 49.5625 14.890625 \nQ 45.40625 21.34375 42.71875 24.75 \nQ 40.046875 28.171875 37.921875 29.53125 \nQ 35.796875 30.90625 33.59375 31.453125 \nQ 31.984375 31.78125 28.328125 31.78125 \nL 17.328125 31.78125 \nL 17.328125 0 \nz\nM 17.328125 39.984375 \nL 37.703125 39.984375 \nQ 44.1875 39.984375 47.84375 41.328125 \nQ 51.515625 42.671875 53.421875 45.625 \nQ 55.328125 48.578125 55.328125 52.046875 \nQ 55.328125 57.125 51.640625 60.390625 \nQ 47.953125 63.671875 39.984375 63.671875 \nL 17.328125 63.671875 \nz\n\" id=\"ArialMT-82\"/>\n       <path d=\"M 40.4375 19 \nL 49.078125 17.875 \nQ 47.65625 8.9375 41.8125 3.875 \nQ 35.984375 -1.171875 27.484375 -1.171875 \nQ 16.84375 -1.171875 10.375 5.78125 \nQ 3.90625 12.75 3.90625 25.734375 \nQ 3.90625 34.125 6.6875 40.421875 \nQ 9.46875 46.734375 15.15625 49.875 \nQ 20.84375 53.03125 27.546875 53.03125 \nQ 35.984375 53.03125 41.359375 48.75 \nQ 46.734375 44.484375 48.25 36.625 \nL 39.703125 35.296875 \nQ 38.484375 40.53125 35.375 43.15625 \nQ 32.28125 45.796875 27.875 45.796875 \nQ 21.234375 45.796875 17.078125 41.03125 \nQ 12.9375 36.28125 12.9375 25.984375 \nQ 12.9375 15.53125 16.9375 10.796875 \nQ 20.953125 6.0625 27.390625 6.0625 \nQ 32.5625 6.0625 36.03125 9.234375 \nQ 39.5 12.40625 40.4375 19 \nz\n\" id=\"ArialMT-99\"/>\n       <path d=\"M 40.4375 6.390625 \nQ 35.546875 2.25 31.03125 0.53125 \nQ 26.515625 -1.171875 21.34375 -1.171875 \nQ 12.796875 -1.171875 8.203125 3 \nQ 3.609375 7.171875 3.609375 13.671875 \nQ 3.609375 17.484375 5.34375 20.625 \nQ 7.078125 23.78125 9.890625 25.6875 \nQ 12.703125 27.59375 16.21875 28.5625 \nQ 18.796875 29.25 24.03125 29.890625 \nQ 34.671875 31.15625 39.703125 32.90625 \nQ 39.75 34.71875 39.75 35.203125 \nQ 39.75 40.578125 37.25 42.78125 \nQ 33.890625 45.75 27.25 45.75 \nQ 21.046875 45.75 18.09375 43.578125 \nQ 15.140625 41.40625 13.71875 35.890625 \nL 5.125 37.0625 \nQ 6.296875 42.578125 8.984375 45.96875 \nQ 11.671875 49.359375 16.75 51.1875 \nQ 21.828125 53.03125 28.515625 53.03125 \nQ 35.15625 53.03125 39.296875 51.46875 \nQ 43.453125 49.90625 45.40625 47.53125 \nQ 47.359375 45.171875 48.140625 41.546875 \nQ 48.578125 39.3125 48.578125 33.453125 \nL 48.578125 21.734375 \nQ 48.578125 9.46875 49.140625 6.21875 \nQ 49.703125 2.984375 51.375 0 \nL 42.1875 0 \nQ 40.828125 2.734375 40.4375 6.390625 \nz\nM 39.703125 26.03125 \nQ 34.90625 24.078125 25.34375 22.703125 \nQ 19.921875 21.921875 17.671875 20.9375 \nQ 15.4375 19.96875 14.203125 18.09375 \nQ 12.984375 16.21875 12.984375 13.921875 \nQ 12.984375 10.40625 15.640625 8.0625 \nQ 18.3125 5.71875 23.4375 5.71875 \nQ 28.515625 5.71875 32.46875 7.9375 \nQ 36.421875 10.15625 38.28125 14.015625 \nQ 39.703125 17 39.703125 22.796875 \nz\n\" id=\"ArialMT-97\"/>\n       <path d=\"M 8.6875 0 \nL 8.6875 45.015625 \nL 0.921875 45.015625 \nL 0.921875 51.859375 \nL 8.6875 51.859375 \nL 8.6875 57.375 \nQ 8.6875 62.59375 9.625 65.140625 \nQ 10.890625 68.5625 14.078125 70.671875 \nQ 17.28125 72.796875 23.046875 72.796875 \nQ 26.765625 72.796875 31.25 71.921875 \nL 29.9375 64.265625 \nQ 27.203125 64.75 24.75 64.75 \nQ 20.75 64.75 19.09375 63.03125 \nQ 17.4375 61.328125 17.4375 56.640625 \nL 17.4375 51.859375 \nL 27.546875 51.859375 \nL 27.546875 45.015625 \nL 17.4375 45.015625 \nL 17.4375 0 \nz\n\" id=\"ArialMT-102\"/>\n       <path d=\"M 40.578125 0 \nL 40.578125 7.625 \nQ 34.515625 -1.171875 24.125 -1.171875 \nQ 19.53125 -1.171875 15.546875 0.578125 \nQ 11.578125 2.34375 9.640625 5 \nQ 7.71875 7.671875 6.9375 11.53125 \nQ 6.390625 14.109375 6.390625 19.734375 \nL 6.390625 51.859375 \nL 15.1875 51.859375 \nL 15.1875 23.09375 \nQ 15.1875 16.21875 15.71875 13.8125 \nQ 16.546875 10.359375 19.234375 8.375 \nQ 21.921875 6.390625 25.875 6.390625 \nQ 29.828125 6.390625 33.296875 8.421875 \nQ 36.765625 10.453125 38.203125 13.9375 \nQ 39.65625 17.4375 39.65625 24.078125 \nL 39.65625 51.859375 \nL 48.4375 51.859375 \nL 48.4375 0 \nz\n\" id=\"ArialMT-117\"/>\n       <path d=\"M 6.5 0 \nL 6.5 51.859375 \nL 14.40625 51.859375 \nL 14.40625 44 \nQ 17.4375 49.515625 20 51.265625 \nQ 22.5625 53.03125 25.640625 53.03125 \nQ 30.078125 53.03125 34.671875 50.203125 \nL 31.640625 42.046875 \nQ 28.421875 43.953125 25.203125 43.953125 \nQ 22.3125 43.953125 20.015625 42.21875 \nQ 17.71875 40.484375 16.75 37.40625 \nQ 15.28125 32.71875 15.28125 27.15625 \nL 15.28125 0 \nz\n\" id=\"ArialMT-114\"/>\n       <path d=\"M 21 0 \nL 1.265625 51.859375 \nL 10.546875 51.859375 \nL 21.6875 20.796875 \nQ 23.484375 15.765625 25 10.359375 \nQ 26.171875 14.453125 28.265625 20.21875 \nL 39.796875 51.859375 \nL 48.828125 51.859375 \nL 29.203125 0 \nz\n\" id=\"ArialMT-118\"/>\n       <path d=\"M 54.6875 71.578125 \nL 64.15625 71.578125 \nL 64.15625 30.21875 \nQ 64.15625 19.4375 61.71875 13.078125 \nQ 59.28125 6.734375 52.90625 2.75 \nQ 46.53125 -1.21875 36.1875 -1.21875 \nQ 26.125 -1.21875 19.71875 2.25 \nQ 13.328125 5.71875 10.59375 12.28125 \nQ 7.859375 18.84375 7.859375 30.21875 \nL 7.859375 71.578125 \nL 17.328125 71.578125 \nL 17.328125 30.28125 \nQ 17.328125 20.953125 19.0625 16.53125 \nQ 20.796875 12.109375 25.015625 9.71875 \nQ 29.25 7.328125 35.359375 7.328125 \nQ 45.796875 7.328125 50.234375 12.0625 \nQ 54.6875 16.796875 54.6875 30.28125 \nz\n\" id=\"ArialMT-85\"/>\n       <path d=\"M 4.5 23 \nL 13.421875 23.78125 \nQ 14.0625 18.40625 16.375 14.96875 \nQ 18.703125 11.53125 23.578125 9.40625 \nQ 28.46875 7.28125 34.578125 7.28125 \nQ 39.984375 7.28125 44.140625 8.890625 \nQ 48.296875 10.5 50.3125 13.296875 \nQ 52.34375 16.109375 52.34375 19.4375 \nQ 52.34375 22.796875 50.390625 25.3125 \nQ 48.4375 27.828125 43.953125 29.546875 \nQ 41.0625 30.671875 31.203125 33.03125 \nQ 21.34375 35.40625 17.390625 37.5 \nQ 12.25 40.1875 9.734375 44.15625 \nQ 7.234375 48.140625 7.234375 53.078125 \nQ 7.234375 58.5 10.296875 63.203125 \nQ 13.375 67.921875 19.28125 70.359375 \nQ 25.203125 72.796875 32.421875 72.796875 \nQ 40.375 72.796875 46.453125 70.234375 \nQ 52.546875 67.671875 55.8125 62.6875 \nQ 59.078125 57.71875 59.328125 51.421875 \nL 50.25 50.734375 \nQ 49.515625 57.515625 45.28125 60.984375 \nQ 41.0625 64.453125 32.8125 64.453125 \nQ 24.21875 64.453125 20.28125 61.296875 \nQ 16.359375 58.15625 16.359375 53.71875 \nQ 16.359375 49.859375 19.140625 47.359375 \nQ 21.875 44.875 33.421875 42.265625 \nQ 44.96875 39.65625 49.265625 37.703125 \nQ 55.515625 34.8125 58.484375 30.390625 \nQ 61.46875 25.984375 61.46875 20.21875 \nQ 61.46875 14.5 58.203125 9.4375 \nQ 54.9375 4.390625 48.796875 1.578125 \nQ 42.671875 -1.21875 35.015625 -1.21875 \nQ 25.296875 -1.21875 18.71875 1.609375 \nQ 12.15625 4.4375 8.421875 10.125 \nQ 4.6875 15.828125 4.5 23 \nz\n\" id=\"ArialMT-83\"/>\n      </defs>\n      <g style=\"fill:#262626;\" transform=\"translate(385.568 504.47525)rotate(-90)scale(0.132 -0.132)\">\n       <use xlink:href=\"#ArialMT-82\"/>\n       <use x=\"72.216797\" xlink:href=\"#ArialMT-101\"/>\n       <use x=\"127.832031\" xlink:href=\"#ArialMT-99\"/>\n       <use x=\"177.832031\" xlink:href=\"#ArialMT-101\"/>\n       <use x=\"233.447266\" xlink:href=\"#ArialMT-110\"/>\n       <use x=\"289.0625\" xlink:href=\"#ArialMT-116\"/>\n       <use x=\"316.845703\" xlink:href=\"#ArialMT-108\"/>\n       <use x=\"339.0625\" xlink:href=\"#ArialMT-121\"/>\n       <use x=\"389.0625\" xlink:href=\"#ArialMT-32\"/>\n       <use x=\"416.845703\" xlink:href=\"#ArialMT-97\"/>\n       <use x=\"472.460938\" xlink:href=\"#ArialMT-32\"/>\n       <use x=\"500.244141\" xlink:href=\"#ArialMT-108\"/>\n       <use x=\"522.460938\" xlink:href=\"#ArialMT-111\"/>\n       <use x=\"578.076172\" xlink:href=\"#ArialMT-116\"/>\n       <use x=\"605.859375\" xlink:href=\"#ArialMT-32\"/>\n       <use x=\"633.642578\" xlink:href=\"#ArialMT-111\"/>\n       <use x=\"689.257812\" xlink:href=\"#ArialMT-102\"/>\n       <use x=\"717.041016\" xlink:href=\"#ArialMT-32\"/>\n       <use x=\"744.824219\" xlink:href=\"#ArialMT-104\"/>\n       <use x=\"800.439453\" xlink:href=\"#ArialMT-117\"/>\n       <use x=\"856.054688\" xlink:href=\"#ArialMT-114\"/>\n       <use x=\"889.355469\" xlink:href=\"#ArialMT-114\"/>\n       <use x=\"922.65625\" xlink:href=\"#ArialMT-105\"/>\n       <use x=\"944.873047\" xlink:href=\"#ArialMT-99\"/>\n       <use x=\"994.873047\" xlink:href=\"#ArialMT-97\"/>\n       <use x=\"1050.488281\" xlink:href=\"#ArialMT-110\"/>\n       <use x=\"1106.103516\" xlink:href=\"#ArialMT-101\"/>\n       <use x=\"1161.71875\" xlink:href=\"#ArialMT-115\"/>\n       <use x=\"1211.71875\" xlink:href=\"#ArialMT-32\"/>\n       <use x=\"1239.501953\" xlink:href=\"#ArialMT-104\"/>\n       <use x=\"1295.117188\" xlink:href=\"#ArialMT-97\"/>\n       <use x=\"1350.732422\" xlink:href=\"#ArialMT-118\"/>\n       <use x=\"1400.732422\" xlink:href=\"#ArialMT-101\"/>\n       <use x=\"1456.347656\" xlink:href=\"#ArialMT-32\"/>\n       <use x=\"1484.130859\" xlink:href=\"#ArialMT-104\"/>\n       <use x=\"1539.746094\" xlink:href=\"#ArialMT-105\"/>\n       <use x=\"1561.962891\" xlink:href=\"#ArialMT-116\"/>\n       <use x=\"1589.746094\" xlink:href=\"#ArialMT-32\"/>\n       <use x=\"1617.529297\" xlink:href=\"#ArialMT-116\"/>\n       <use x=\"1645.3125\" xlink:href=\"#ArialMT-104\"/>\n       <use x=\"1700.927734\" xlink:href=\"#ArialMT-101\"/>\n       <use x=\"1756.542969\" xlink:href=\"#ArialMT-32\"/>\n       <use x=\"1784.326172\" xlink:href=\"#ArialMT-85\"/>\n       <use x=\"1856.542969\" xlink:href=\"#ArialMT-83\"/>\n      </g>\n     </g>\n    </g>\n    <g id=\"xtick_4\">\n     <g id=\"text_4\">\n      <!-- Global warming is real -->\n      <defs>\n       <path d=\"M 41.21875 28.078125 \nL 41.21875 36.46875 \nL 71.53125 36.53125 \nL 71.53125 9.96875 \nQ 64.546875 4.390625 57.125 1.578125 \nQ 49.703125 -1.21875 41.890625 -1.21875 \nQ 31.34375 -1.21875 22.71875 3.296875 \nQ 14.109375 7.8125 9.71875 16.359375 \nQ 5.328125 24.90625 5.328125 35.453125 \nQ 5.328125 45.90625 9.6875 54.953125 \nQ 14.0625 64.015625 22.265625 68.40625 \nQ 30.46875 72.796875 41.15625 72.796875 \nQ 48.921875 72.796875 55.1875 70.28125 \nQ 61.46875 67.78125 65.03125 63.28125 \nQ 68.609375 58.796875 70.453125 51.5625 \nL 61.921875 49.21875 \nQ 60.296875 54.6875 57.90625 57.8125 \nQ 55.515625 60.9375 51.0625 62.8125 \nQ 46.625 64.703125 41.21875 64.703125 \nQ 34.71875 64.703125 29.984375 62.71875 \nQ 25.25 60.75 22.34375 57.515625 \nQ 19.4375 54.296875 17.828125 50.4375 \nQ 15.09375 43.796875 15.09375 36.03125 \nQ 15.09375 26.46875 18.390625 20.015625 \nQ 21.6875 13.578125 27.984375 10.453125 \nQ 34.28125 7.328125 41.359375 7.328125 \nQ 47.515625 7.328125 53.375 9.6875 \nQ 59.234375 12.0625 62.25 14.75 \nL 62.25 28.078125 \nz\n\" id=\"ArialMT-71\"/>\n       <path d=\"M 14.703125 0 \nL 6.546875 0 \nL 6.546875 71.578125 \nL 15.328125 71.578125 \nL 15.328125 46.046875 \nQ 20.90625 53.03125 29.546875 53.03125 \nQ 34.328125 53.03125 38.59375 51.09375 \nQ 42.875 49.171875 45.625 45.671875 \nQ 48.390625 42.1875 49.953125 37.25 \nQ 51.515625 32.328125 51.515625 26.703125 \nQ 51.515625 13.375 44.921875 6.09375 \nQ 38.328125 -1.171875 29.109375 -1.171875 \nQ 19.921875 -1.171875 14.703125 6.5 \nz\nM 14.59375 26.3125 \nQ 14.59375 17 17.140625 12.84375 \nQ 21.296875 6.0625 28.375 6.0625 \nQ 34.125 6.0625 38.328125 11.0625 \nQ 42.53125 16.0625 42.53125 25.984375 \nQ 42.53125 36.140625 38.5 40.96875 \nQ 34.46875 45.796875 28.765625 45.796875 \nQ 23 45.796875 18.796875 40.796875 \nQ 14.59375 35.796875 14.59375 26.3125 \nz\n\" id=\"ArialMT-98\"/>\n       <path d=\"M 16.15625 0 \nL 0.296875 51.859375 \nL 9.375 51.859375 \nL 17.625 21.921875 \nL 20.703125 10.796875 \nQ 20.90625 11.625 23.390625 21.484375 \nL 31.640625 51.859375 \nL 40.671875 51.859375 \nL 48.4375 21.78125 \nL 51.03125 11.859375 \nL 54 21.875 \nL 62.890625 51.859375 \nL 71.4375 51.859375 \nL 55.21875 0 \nL 46.09375 0 \nL 37.84375 31.0625 \nL 35.84375 39.890625 \nL 25.34375 0 \nz\n\" id=\"ArialMT-119\"/>\n      </defs>\n      <g style=\"fill:#262626;\" transform=\"translate(430.208 381.197563)rotate(-90)scale(0.132 -0.132)\">\n       <use xlink:href=\"#ArialMT-71\"/>\n       <use x=\"77.783203\" xlink:href=\"#ArialMT-108\"/>\n       <use x=\"100\" xlink:href=\"#ArialMT-111\"/>\n       <use x=\"155.615234\" xlink:href=\"#ArialMT-98\"/>\n       <use x=\"211.230469\" xlink:href=\"#ArialMT-97\"/>\n       <use x=\"266.845703\" xlink:href=\"#ArialMT-108\"/>\n       <use x=\"289.0625\" xlink:href=\"#ArialMT-32\"/>\n       <use x=\"316.845703\" xlink:href=\"#ArialMT-119\"/>\n       <use x=\"389.0625\" xlink:href=\"#ArialMT-97\"/>\n       <use x=\"444.677734\" xlink:href=\"#ArialMT-114\"/>\n       <use x=\"477.978516\" xlink:href=\"#ArialMT-109\"/>\n       <use x=\"561.279297\" xlink:href=\"#ArialMT-105\"/>\n       <use x=\"583.496094\" xlink:href=\"#ArialMT-110\"/>\n       <use x=\"639.111328\" xlink:href=\"#ArialMT-103\"/>\n       <use x=\"694.726562\" xlink:href=\"#ArialMT-32\"/>\n       <use x=\"722.509766\" xlink:href=\"#ArialMT-105\"/>\n       <use x=\"744.726562\" xlink:href=\"#ArialMT-115\"/>\n       <use x=\"794.726562\" xlink:href=\"#ArialMT-32\"/>\n       <use x=\"822.509766\" xlink:href=\"#ArialMT-114\"/>\n       <use x=\"855.810547\" xlink:href=\"#ArialMT-101\"/>\n       <use x=\"911.425781\" xlink:href=\"#ArialMT-97\"/>\n       <use x=\"967.041016\" xlink:href=\"#ArialMT-108\"/>\n      </g>\n     </g>\n    </g>\n    <g id=\"xtick_5\">\n     <g id=\"text_5\">\n      <!-- How old are you? -->\n      <defs>\n       <path d=\"M 8.015625 0 \nL 8.015625 71.578125 \nL 17.484375 71.578125 \nL 17.484375 42.1875 \nL 54.6875 42.1875 \nL 54.6875 71.578125 \nL 64.15625 71.578125 \nL 64.15625 0 \nL 54.6875 0 \nL 54.6875 33.734375 \nL 17.484375 33.734375 \nL 17.484375 0 \nz\n\" id=\"ArialMT-72\"/>\n       <path d=\"M 23.046875 17.625 \nQ 23 19.390625 23 20.265625 \nQ 23 25.4375 24.46875 29.203125 \nQ 25.53125 32.03125 27.9375 34.90625 \nQ 29.6875 37.015625 34.25 41.03125 \nQ 38.8125 45.0625 40.171875 47.453125 \nQ 41.546875 49.859375 41.546875 52.6875 \nQ 41.546875 57.8125 37.546875 61.6875 \nQ 33.546875 65.578125 27.734375 65.578125 \nQ 22.125 65.578125 18.359375 62.0625 \nQ 14.59375 58.546875 13.421875 51.078125 \nL 4.390625 52.15625 \nQ 5.609375 62.15625 11.640625 67.46875 \nQ 17.671875 72.796875 27.59375 72.796875 \nQ 38.09375 72.796875 44.34375 67.078125 \nQ 50.59375 61.375 50.59375 53.265625 \nQ 50.59375 48.578125 48.390625 44.625 \nQ 46.1875 40.671875 39.796875 35.015625 \nQ 35.5 31.203125 34.171875 29.390625 \nQ 32.859375 27.59375 32.21875 25.25 \nQ 31.59375 22.90625 31.5 17.625 \nz\nM 22.515625 0 \nL 22.515625 10.015625 \nL 32.515625 10.015625 \nL 32.515625 0 \nz\n\" id=\"ArialMT-63\"/>\n      </defs>\n      <g style=\"fill:#262626;\" transform=\"translate(474.848 353.341437)rotate(-90)scale(0.132 -0.132)\">\n       <use xlink:href=\"#ArialMT-72\"/>\n       <use x=\"72.216797\" xlink:href=\"#ArialMT-111\"/>\n       <use x=\"127.832031\" xlink:href=\"#ArialMT-119\"/>\n       <use x=\"200.048828\" xlink:href=\"#ArialMT-32\"/>\n       <use x=\"227.832031\" xlink:href=\"#ArialMT-111\"/>\n       <use x=\"283.447266\" xlink:href=\"#ArialMT-108\"/>\n       <use x=\"305.664062\" xlink:href=\"#ArialMT-100\"/>\n       <use x=\"361.279297\" xlink:href=\"#ArialMT-32\"/>\n       <use x=\"389.0625\" xlink:href=\"#ArialMT-97\"/>\n       <use x=\"444.677734\" xlink:href=\"#ArialMT-114\"/>\n       <use x=\"477.978516\" xlink:href=\"#ArialMT-101\"/>\n       <use x=\"533.59375\" xlink:href=\"#ArialMT-32\"/>\n       <use x=\"561.376953\" xlink:href=\"#ArialMT-121\"/>\n       <use x=\"611.376953\" xlink:href=\"#ArialMT-111\"/>\n       <use x=\"666.992188\" xlink:href=\"#ArialMT-117\"/>\n       <use x=\"722.607422\" xlink:href=\"#ArialMT-63\"/>\n      </g>\n     </g>\n    </g>\n    <g id=\"xtick_6\">\n     <g id=\"text_6\">\n      <!-- what is your age? -->\n      <g style=\"fill:#262626;\" transform=\"translate(519.488 354.075688)rotate(-90)scale(0.132 -0.132)\">\n       <use xlink:href=\"#ArialMT-119\"/>\n       <use x=\"72.216797\" xlink:href=\"#ArialMT-104\"/>\n       <use x=\"127.832031\" xlink:href=\"#ArialMT-97\"/>\n       <use x=\"183.447266\" xlink:href=\"#ArialMT-116\"/>\n       <use x=\"211.230469\" xlink:href=\"#ArialMT-32\"/>\n       <use x=\"239.013672\" xlink:href=\"#ArialMT-105\"/>\n       <use x=\"261.230469\" xlink:href=\"#ArialMT-115\"/>\n       <use x=\"311.230469\" xlink:href=\"#ArialMT-32\"/>\n       <use x=\"339.013672\" xlink:href=\"#ArialMT-121\"/>\n       <use x=\"389.013672\" xlink:href=\"#ArialMT-111\"/>\n       <use x=\"444.628906\" xlink:href=\"#ArialMT-117\"/>\n       <use x=\"500.244141\" xlink:href=\"#ArialMT-114\"/>\n       <use x=\"533.544922\" xlink:href=\"#ArialMT-32\"/>\n       <use x=\"561.328125\" xlink:href=\"#ArialMT-97\"/>\n       <use x=\"616.943359\" xlink:href=\"#ArialMT-103\"/>\n       <use x=\"672.558594\" xlink:href=\"#ArialMT-101\"/>\n       <use x=\"728.173828\" xlink:href=\"#ArialMT-63\"/>\n      </g>\n     </g>\n    </g>\n   </g>\n   <g id=\"matplotlib.axis_2\">\n    <g id=\"ytick_1\">\n     <g id=\"text_7\">\n      <!-- I like my phone -->\n      <g style=\"fill:#262626;\" transform=\"translate(172.280438 46.526906)scale(0.132 -0.132)\">\n       <use xlink:href=\"#ArialMT-73\"/>\n       <use x=\"27.783203\" xlink:href=\"#ArialMT-32\"/>\n       <use x=\"55.566406\" xlink:href=\"#ArialMT-108\"/>\n       <use x=\"77.783203\" xlink:href=\"#ArialMT-105\"/>\n       <use x=\"100\" xlink:href=\"#ArialMT-107\"/>\n       <use x=\"150\" xlink:href=\"#ArialMT-101\"/>\n       <use x=\"205.615234\" xlink:href=\"#ArialMT-32\"/>\n       <use x=\"233.398438\" xlink:href=\"#ArialMT-109\"/>\n       <use x=\"316.699219\" xlink:href=\"#ArialMT-121\"/>\n       <use x=\"366.699219\" xlink:href=\"#ArialMT-32\"/>\n       <use x=\"394.482422\" xlink:href=\"#ArialMT-112\"/>\n       <use x=\"450.097656\" xlink:href=\"#ArialMT-104\"/>\n       <use x=\"505.712891\" xlink:href=\"#ArialMT-111\"/>\n       <use x=\"561.328125\" xlink:href=\"#ArialMT-110\"/>\n       <use x=\"616.943359\" xlink:href=\"#ArialMT-101\"/>\n      </g>\n     </g>\n    </g>\n    <g id=\"ytick_2\">\n     <g id=\"text_8\">\n      <!-- My phone is not good. -->\n      <g style=\"fill:#262626;\" transform=\"translate(131.176875 82.766906)scale(0.132 -0.132)\">\n       <use xlink:href=\"#ArialMT-77\"/>\n       <use x=\"83.300781\" xlink:href=\"#ArialMT-121\"/>\n       <use x=\"133.300781\" xlink:href=\"#ArialMT-32\"/>\n       <use x=\"161.083984\" xlink:href=\"#ArialMT-112\"/>\n       <use x=\"216.699219\" xlink:href=\"#ArialMT-104\"/>\n       <use x=\"272.314453\" xlink:href=\"#ArialMT-111\"/>\n       <use x=\"327.929688\" xlink:href=\"#ArialMT-110\"/>\n       <use x=\"383.544922\" xlink:href=\"#ArialMT-101\"/>\n       <use x=\"439.160156\" xlink:href=\"#ArialMT-32\"/>\n       <use x=\"466.943359\" xlink:href=\"#ArialMT-105\"/>\n       <use x=\"489.160156\" xlink:href=\"#ArialMT-115\"/>\n       <use x=\"539.160156\" xlink:href=\"#ArialMT-32\"/>\n       <use x=\"566.943359\" xlink:href=\"#ArialMT-110\"/>\n       <use x=\"622.558594\" xlink:href=\"#ArialMT-111\"/>\n       <use x=\"678.173828\" xlink:href=\"#ArialMT-116\"/>\n       <use x=\"705.957031\" xlink:href=\"#ArialMT-32\"/>\n       <use x=\"733.740234\" xlink:href=\"#ArialMT-103\"/>\n       <use x=\"789.355469\" xlink:href=\"#ArialMT-111\"/>\n       <use x=\"844.970703\" xlink:href=\"#ArialMT-111\"/>\n       <use x=\"900.585938\" xlink:href=\"#ArialMT-100\"/>\n       <use x=\"956.201172\" xlink:href=\"#ArialMT-46\"/>\n      </g>\n     </g>\n    </g>\n    <g id=\"ytick_3\">\n     <g id=\"text_9\">\n      <!-- Recently a lot of hurricanes have hit the US -->\n      <g style=\"fill:#262626;\" transform=\"translate(7.2 119.087344)scale(0.132 -0.132)\">\n       <use xlink:href=\"#ArialMT-82\"/>\n       <use x=\"72.216797\" xlink:href=\"#ArialMT-101\"/>\n       <use x=\"127.832031\" xlink:href=\"#ArialMT-99\"/>\n       <use x=\"177.832031\" xlink:href=\"#ArialMT-101\"/>\n       <use x=\"233.447266\" xlink:href=\"#ArialMT-110\"/>\n       <use x=\"289.0625\" xlink:href=\"#ArialMT-116\"/>\n       <use x=\"316.845703\" xlink:href=\"#ArialMT-108\"/>\n       <use x=\"339.0625\" xlink:href=\"#ArialMT-121\"/>\n       <use x=\"389.0625\" xlink:href=\"#ArialMT-32\"/>\n       <use x=\"416.845703\" xlink:href=\"#ArialMT-97\"/>\n       <use x=\"472.460938\" xlink:href=\"#ArialMT-32\"/>\n       <use x=\"500.244141\" xlink:href=\"#ArialMT-108\"/>\n       <use x=\"522.460938\" xlink:href=\"#ArialMT-111\"/>\n       <use x=\"578.076172\" xlink:href=\"#ArialMT-116\"/>\n       <use x=\"605.859375\" xlink:href=\"#ArialMT-32\"/>\n       <use x=\"633.642578\" xlink:href=\"#ArialMT-111\"/>\n       <use x=\"689.257812\" xlink:href=\"#ArialMT-102\"/>\n       <use x=\"717.041016\" xlink:href=\"#ArialMT-32\"/>\n       <use x=\"744.824219\" xlink:href=\"#ArialMT-104\"/>\n       <use x=\"800.439453\" xlink:href=\"#ArialMT-117\"/>\n       <use x=\"856.054688\" xlink:href=\"#ArialMT-114\"/>\n       <use x=\"889.355469\" xlink:href=\"#ArialMT-114\"/>\n       <use x=\"922.65625\" xlink:href=\"#ArialMT-105\"/>\n       <use x=\"944.873047\" xlink:href=\"#ArialMT-99\"/>\n       <use x=\"994.873047\" xlink:href=\"#ArialMT-97\"/>\n       <use x=\"1050.488281\" xlink:href=\"#ArialMT-110\"/>\n       <use x=\"1106.103516\" xlink:href=\"#ArialMT-101\"/>\n       <use x=\"1161.71875\" xlink:href=\"#ArialMT-115\"/>\n       <use x=\"1211.71875\" xlink:href=\"#ArialMT-32\"/>\n       <use x=\"1239.501953\" xlink:href=\"#ArialMT-104\"/>\n       <use x=\"1295.117188\" xlink:href=\"#ArialMT-97\"/>\n       <use x=\"1350.732422\" xlink:href=\"#ArialMT-118\"/>\n       <use x=\"1400.732422\" xlink:href=\"#ArialMT-101\"/>\n       <use x=\"1456.347656\" xlink:href=\"#ArialMT-32\"/>\n       <use x=\"1484.130859\" xlink:href=\"#ArialMT-104\"/>\n       <use x=\"1539.746094\" xlink:href=\"#ArialMT-105\"/>\n       <use x=\"1561.962891\" xlink:href=\"#ArialMT-116\"/>\n       <use x=\"1589.746094\" xlink:href=\"#ArialMT-32\"/>\n       <use x=\"1617.529297\" xlink:href=\"#ArialMT-116\"/>\n       <use x=\"1645.3125\" xlink:href=\"#ArialMT-104\"/>\n       <use x=\"1700.927734\" xlink:href=\"#ArialMT-101\"/>\n       <use x=\"1756.542969\" xlink:href=\"#ArialMT-32\"/>\n       <use x=\"1784.326172\" xlink:href=\"#ArialMT-85\"/>\n       <use x=\"1856.542969\" xlink:href=\"#ArialMT-83\"/>\n      </g>\n     </g>\n    </g>\n    <g id=\"ytick_4\">\n     <g id=\"text_10\">\n      <!-- Global warming is real -->\n      <g style=\"fill:#262626;\" transform=\"translate(130.477688 155.327344)scale(0.132 -0.132)\">\n       <use xlink:href=\"#ArialMT-71\"/>\n       <use x=\"77.783203\" xlink:href=\"#ArialMT-108\"/>\n       <use x=\"100\" xlink:href=\"#ArialMT-111\"/>\n       <use x=\"155.615234\" xlink:href=\"#ArialMT-98\"/>\n       <use x=\"211.230469\" xlink:href=\"#ArialMT-97\"/>\n       <use x=\"266.845703\" xlink:href=\"#ArialMT-108\"/>\n       <use x=\"289.0625\" xlink:href=\"#ArialMT-32\"/>\n       <use x=\"316.845703\" xlink:href=\"#ArialMT-119\"/>\n       <use x=\"389.0625\" xlink:href=\"#ArialMT-97\"/>\n       <use x=\"444.677734\" xlink:href=\"#ArialMT-114\"/>\n       <use x=\"477.978516\" xlink:href=\"#ArialMT-109\"/>\n       <use x=\"561.279297\" xlink:href=\"#ArialMT-105\"/>\n       <use x=\"583.496094\" xlink:href=\"#ArialMT-110\"/>\n       <use x=\"639.111328\" xlink:href=\"#ArialMT-103\"/>\n       <use x=\"694.726562\" xlink:href=\"#ArialMT-32\"/>\n       <use x=\"722.509766\" xlink:href=\"#ArialMT-105\"/>\n       <use x=\"744.726562\" xlink:href=\"#ArialMT-115\"/>\n       <use x=\"794.726562\" xlink:href=\"#ArialMT-32\"/>\n       <use x=\"822.509766\" xlink:href=\"#ArialMT-114\"/>\n       <use x=\"855.810547\" xlink:href=\"#ArialMT-101\"/>\n       <use x=\"911.425781\" xlink:href=\"#ArialMT-97\"/>\n       <use x=\"967.041016\" xlink:href=\"#ArialMT-108\"/>\n      </g>\n     </g>\n    </g>\n    <g id=\"ytick_5\">\n     <g id=\"text_11\">\n      <!-- How old are you? -->\n      <g style=\"fill:#262626;\" transform=\"translate(158.333813 191.567344)scale(0.132 -0.132)\">\n       <use xlink:href=\"#ArialMT-72\"/>\n       <use x=\"72.216797\" xlink:href=\"#ArialMT-111\"/>\n       <use x=\"127.832031\" xlink:href=\"#ArialMT-119\"/>\n       <use x=\"200.048828\" xlink:href=\"#ArialMT-32\"/>\n       <use x=\"227.832031\" xlink:href=\"#ArialMT-111\"/>\n       <use x=\"283.447266\" xlink:href=\"#ArialMT-108\"/>\n       <use x=\"305.664062\" xlink:href=\"#ArialMT-100\"/>\n       <use x=\"361.279297\" xlink:href=\"#ArialMT-32\"/>\n       <use x=\"389.0625\" xlink:href=\"#ArialMT-97\"/>\n       <use x=\"444.677734\" xlink:href=\"#ArialMT-114\"/>\n       <use x=\"477.978516\" xlink:href=\"#ArialMT-101\"/>\n       <use x=\"533.59375\" xlink:href=\"#ArialMT-32\"/>\n       <use x=\"561.376953\" xlink:href=\"#ArialMT-121\"/>\n       <use x=\"611.376953\" xlink:href=\"#ArialMT-111\"/>\n       <use x=\"666.992188\" xlink:href=\"#ArialMT-117\"/>\n       <use x=\"722.607422\" xlink:href=\"#ArialMT-63\"/>\n      </g>\n     </g>\n    </g>\n    <g id=\"ytick_6\">\n     <g id=\"text_12\">\n      <!-- what is your age? -->\n      <g style=\"fill:#262626;\" transform=\"translate(157.599562 227.807344)scale(0.132 -0.132)\">\n       <use xlink:href=\"#ArialMT-119\"/>\n       <use x=\"72.216797\" xlink:href=\"#ArialMT-104\"/>\n       <use x=\"127.832031\" xlink:href=\"#ArialMT-97\"/>\n       <use x=\"183.447266\" xlink:href=\"#ArialMT-116\"/>\n       <use x=\"211.230469\" xlink:href=\"#ArialMT-32\"/>\n       <use x=\"239.013672\" xlink:href=\"#ArialMT-105\"/>\n       <use x=\"261.230469\" xlink:href=\"#ArialMT-115\"/>\n       <use x=\"311.230469\" xlink:href=\"#ArialMT-32\"/>\n       <use x=\"339.013672\" xlink:href=\"#ArialMT-121\"/>\n       <use x=\"389.013672\" xlink:href=\"#ArialMT-111\"/>\n       <use x=\"444.628906\" xlink:href=\"#ArialMT-117\"/>\n       <use x=\"500.244141\" xlink:href=\"#ArialMT-114\"/>\n       <use x=\"533.544922\" xlink:href=\"#ArialMT-32\"/>\n       <use x=\"561.328125\" xlink:href=\"#ArialMT-97\"/>\n       <use x=\"616.943359\" xlink:href=\"#ArialMT-103\"/>\n       <use x=\"672.558594\" xlink:href=\"#ArialMT-101\"/>\n       <use x=\"728.173828\" xlink:href=\"#ArialMT-63\"/>\n      </g>\n     </g>\n    </g>\n   </g>\n   <g id=\"QuadMesh_1\">\n    <path clip-path=\"url(#p16e4553578)\" d=\"M 270.5525 23.68275 \nL 315.1925 23.68275 \nL 315.1925 59.92275 \nL 270.5525 59.92275 \nL 270.5525 23.68275 \n\" style=\"fill:#800026;\"/>\n    <path clip-path=\"url(#p16e4553578)\" d=\"M 315.1925 23.68275 \nL 359.8325 23.68275 \nL 359.8325 59.92275 \nL 315.1925 59.92275 \nL 315.1925 23.68275 \n\" style=\"fill:#c40524;\"/>\n    <path clip-path=\"url(#p16e4553578)\" d=\"M 359.8325 23.68275 \nL 404.4725 23.68275 \nL 404.4725 59.92275 \nL 359.8325 59.92275 \nL 359.8325 23.68275 \n\" style=\"fill:#d41020;\"/>\n    <path clip-path=\"url(#p16e4553578)\" d=\"M 404.4725 23.68275 \nL 449.1125 23.68275 \nL 449.1125 59.92275 \nL 404.4725 59.92275 \nL 404.4725 23.68275 \n\" style=\"fill:#fd7435;\"/>\n    <path clip-path=\"url(#p16e4553578)\" d=\"M 449.1125 23.68275 \nL 493.7525 23.68275 \nL 493.7525 59.92275 \nL 449.1125 59.92275 \nL 449.1125 23.68275 \n\" style=\"fill:#c80723;\"/>\n    <path clip-path=\"url(#p16e4553578)\" d=\"M 493.7525 23.68275 \nL 538.3925 23.68275 \nL 538.3925 59.92275 \nL 493.7525 59.92275 \nL 493.7525 23.68275 \n\" style=\"fill:#feb852;\"/>\n    <path clip-path=\"url(#p16e4553578)\" d=\"M 270.5525 59.92275 \nL 315.1925 59.92275 \nL 315.1925 96.16275 \nL 270.5525 96.16275 \nL 270.5525 59.92275 \n\" style=\"fill:#c40524;\"/>\n    <path clip-path=\"url(#p16e4553578)\" d=\"M 315.1925 59.92275 \nL 359.8325 59.92275 \nL 359.8325 96.16275 \nL 315.1925 96.16275 \nL 315.1925 59.92275 \n\" style=\"fill:#800026;\"/>\n    <path clip-path=\"url(#p16e4553578)\" d=\"M 359.8325 59.92275 \nL 404.4725 59.92275 \nL 404.4725 96.16275 \nL 359.8325 96.16275 \nL 359.8325 59.92275 \n\" style=\"fill:#ae0026;\"/>\n    <path clip-path=\"url(#p16e4553578)\" d=\"M 404.4725 59.92275 \nL 449.1125 59.92275 \nL 449.1125 96.16275 \nL 404.4725 96.16275 \nL 404.4725 59.92275 \n\" style=\"fill:#fd8e3c;\"/>\n    <path clip-path=\"url(#p16e4553578)\" d=\"M 449.1125 59.92275 \nL 493.7525 59.92275 \nL 493.7525 96.16275 \nL 449.1125 96.16275 \nL 449.1125 59.92275 \n\" style=\"fill:#8d0026;\"/>\n    <path clip-path=\"url(#p16e4553578)\" d=\"M 493.7525 59.92275 \nL 538.3925 59.92275 \nL 538.3925 96.16275 \nL 493.7525 96.16275 \nL 493.7525 59.92275 \n\" style=\"fill:#fecf6b;\"/>\n    <path clip-path=\"url(#p16e4553578)\" d=\"M 270.5525 96.16275 \nL 315.1925 96.16275 \nL 315.1925 132.40275 \nL 270.5525 132.40275 \nL 270.5525 96.16275 \n\" style=\"fill:#d41020;\"/>\n    <path clip-path=\"url(#p16e4553578)\" d=\"M 315.1925 96.16275 \nL 359.8325 96.16275 \nL 359.8325 132.40275 \nL 315.1925 132.40275 \nL 315.1925 96.16275 \n\" style=\"fill:#ae0026;\"/>\n    <path clip-path=\"url(#p16e4553578)\" d=\"M 359.8325 96.16275 \nL 404.4725 96.16275 \nL 404.4725 132.40275 \nL 359.8325 132.40275 \nL 359.8325 96.16275 \n\" style=\"fill:#800026;\"/>\n    <path clip-path=\"url(#p16e4553578)\" d=\"M 404.4725 96.16275 \nL 449.1125 96.16275 \nL 449.1125 132.40275 \nL 404.4725 132.40275 \nL 404.4725 96.16275 \n\" style=\"fill:#f03523;\"/>\n    <path clip-path=\"url(#p16e4553578)\" d=\"M 449.1125 96.16275 \nL 493.7525 96.16275 \nL 493.7525 132.40275 \nL 449.1125 132.40275 \nL 449.1125 96.16275 \n\" style=\"fill:#b00026;\"/>\n    <path clip-path=\"url(#p16e4553578)\" d=\"M 493.7525 96.16275 \nL 538.3925 96.16275 \nL 538.3925 132.40275 \nL 493.7525 132.40275 \nL 493.7525 96.16275 \n\" style=\"fill:#fea848;\"/>\n    <path clip-path=\"url(#p16e4553578)\" d=\"M 270.5525 132.40275 \nL 315.1925 132.40275 \nL 315.1925 168.64275 \nL 270.5525 168.64275 \nL 270.5525 132.40275 \n\" style=\"fill:#fd7435;\"/>\n    <path clip-path=\"url(#p16e4553578)\" d=\"M 315.1925 132.40275 \nL 359.8325 132.40275 \nL 359.8325 168.64275 \nL 315.1925 168.64275 \nL 315.1925 132.40275 \n\" style=\"fill:#fd8e3c;\"/>\n    <path clip-path=\"url(#p16e4553578)\" d=\"M 359.8325 132.40275 \nL 404.4725 132.40275 \nL 404.4725 168.64275 \nL 359.8325 168.64275 \nL 359.8325 132.40275 \n\" style=\"fill:#f03523;\"/>\n    <path clip-path=\"url(#p16e4553578)\" d=\"M 404.4725 132.40275 \nL 449.1125 132.40275 \nL 449.1125 168.64275 \nL 404.4725 168.64275 \nL 404.4725 132.40275 \n\" style=\"fill:#800026;\"/>\n    <path clip-path=\"url(#p16e4553578)\" d=\"M 449.1125 132.40275 \nL 493.7525 132.40275 \nL 493.7525 168.64275 \nL 449.1125 168.64275 \nL 449.1125 132.40275 \n\" style=\"fill:#fd7034;\"/>\n    <path clip-path=\"url(#p16e4553578)\" d=\"M 493.7525 132.40275 \nL 538.3925 132.40275 \nL 538.3925 168.64275 \nL 493.7525 168.64275 \nL 493.7525 132.40275 \n\" style=\"fill:#d7121f;\"/>\n    <path clip-path=\"url(#p16e4553578)\" d=\"M 270.5525 168.64275 \nL 315.1925 168.64275 \nL 315.1925 204.88275 \nL 270.5525 204.88275 \nL 270.5525 168.64275 \n\" style=\"fill:#c80723;\"/>\n    <path clip-path=\"url(#p16e4553578)\" d=\"M 315.1925 168.64275 \nL 359.8325 168.64275 \nL 359.8325 204.88275 \nL 315.1925 204.88275 \nL 315.1925 168.64275 \n\" style=\"fill:#8d0026;\"/>\n    <path clip-path=\"url(#p16e4553578)\" d=\"M 359.8325 168.64275 \nL 404.4725 168.64275 \nL 404.4725 204.88275 \nL 359.8325 204.88275 \nL 359.8325 168.64275 \n\" style=\"fill:#b00026;\"/>\n    <path clip-path=\"url(#p16e4553578)\" d=\"M 404.4725 168.64275 \nL 449.1125 168.64275 \nL 449.1125 204.88275 \nL 404.4725 204.88275 \nL 404.4725 168.64275 \n\" style=\"fill:#fd7034;\"/>\n    <path clip-path=\"url(#p16e4553578)\" d=\"M 449.1125 168.64275 \nL 493.7525 168.64275 \nL 493.7525 204.88275 \nL 449.1125 204.88275 \nL 449.1125 168.64275 \n\" style=\"fill:#800026;\"/>\n    <path clip-path=\"url(#p16e4553578)\" d=\"M 493.7525 168.64275 \nL 538.3925 168.64275 \nL 538.3925 204.88275 \nL 493.7525 204.88275 \nL 493.7525 168.64275 \n\" style=\"fill:#feb24c;\"/>\n    <path clip-path=\"url(#p16e4553578)\" d=\"M 270.5525 204.88275 \nL 315.1925 204.88275 \nL 315.1925 241.12275 \nL 270.5525 241.12275 \nL 270.5525 204.88275 \n\" style=\"fill:#feb852;\"/>\n    <path clip-path=\"url(#p16e4553578)\" d=\"M 315.1925 204.88275 \nL 359.8325 204.88275 \nL 359.8325 241.12275 \nL 315.1925 241.12275 \nL 315.1925 204.88275 \n\" style=\"fill:#fecf6b;\"/>\n    <path clip-path=\"url(#p16e4553578)\" d=\"M 359.8325 204.88275 \nL 404.4725 204.88275 \nL 404.4725 241.12275 \nL 359.8325 241.12275 \nL 359.8325 204.88275 \n\" style=\"fill:#fea848;\"/>\n    <path clip-path=\"url(#p16e4553578)\" d=\"M 404.4725 204.88275 \nL 449.1125 204.88275 \nL 449.1125 241.12275 \nL 404.4725 241.12275 \nL 404.4725 204.88275 \n\" style=\"fill:#d7121f;\"/>\n    <path clip-path=\"url(#p16e4553578)\" d=\"M 449.1125 204.88275 \nL 493.7525 204.88275 \nL 493.7525 241.12275 \nL 449.1125 241.12275 \nL 449.1125 204.88275 \n\" style=\"fill:#feb24c;\"/>\n    <path clip-path=\"url(#p16e4553578)\" d=\"M 493.7525 204.88275 \nL 538.3925 204.88275 \nL 538.3925 241.12275 \nL 493.7525 241.12275 \nL 493.7525 204.88275 \n\" style=\"fill:#800026;\"/>\n   </g>\n   <g id=\"text_13\">\n    <!-- Semantic Textual Similarity -->\n    <defs>\n     <path d=\"M 25.921875 0 \nL 25.921875 63.140625 \nL 2.34375 63.140625 \nL 2.34375 71.578125 \nL 59.078125 71.578125 \nL 59.078125 63.140625 \nL 35.40625 63.140625 \nL 35.40625 0 \nz\n\" id=\"ArialMT-84\"/>\n     <path d=\"M 0.734375 0 \nL 19.671875 26.953125 \nL 2.15625 51.859375 \nL 13.140625 51.859375 \nL 21.09375 39.703125 \nQ 23.34375 36.234375 24.703125 33.890625 \nQ 26.859375 37.109375 28.65625 39.59375 \nL 37.40625 51.859375 \nL 47.90625 51.859375 \nL 29.984375 27.4375 \nL 49.265625 0 \nL 38.484375 0 \nL 27.828125 16.109375 \nL 25 20.453125 \nL 11.375 0 \nz\n\" id=\"ArialMT-120\"/>\n    </defs>\n    <g style=\"fill:#262626;\" transform=\"translate(318.577625 17.68275)scale(0.144 -0.144)\">\n     <use xlink:href=\"#ArialMT-83\"/>\n     <use x=\"66.699219\" xlink:href=\"#ArialMT-101\"/>\n     <use x=\"122.314453\" xlink:href=\"#ArialMT-109\"/>\n     <use x=\"205.615234\" xlink:href=\"#ArialMT-97\"/>\n     <use x=\"261.230469\" xlink:href=\"#ArialMT-110\"/>\n     <use x=\"316.845703\" xlink:href=\"#ArialMT-116\"/>\n     <use x=\"344.628906\" xlink:href=\"#ArialMT-105\"/>\n     <use x=\"366.845703\" xlink:href=\"#ArialMT-99\"/>\n     <use x=\"416.845703\" xlink:href=\"#ArialMT-32\"/>\n     <use x=\"442.878906\" xlink:href=\"#ArialMT-84\"/>\n     <use x=\"492.837891\" xlink:href=\"#ArialMT-101\"/>\n     <use x=\"548.453125\" xlink:href=\"#ArialMT-120\"/>\n     <use x=\"598.453125\" xlink:href=\"#ArialMT-116\"/>\n     <use x=\"626.236328\" xlink:href=\"#ArialMT-117\"/>\n     <use x=\"681.851562\" xlink:href=\"#ArialMT-97\"/>\n     <use x=\"737.466797\" xlink:href=\"#ArialMT-108\"/>\n     <use x=\"759.683594\" xlink:href=\"#ArialMT-32\"/>\n     <use x=\"787.466797\" xlink:href=\"#ArialMT-83\"/>\n     <use x=\"854.166016\" xlink:href=\"#ArialMT-105\"/>\n     <use x=\"876.382812\" xlink:href=\"#ArialMT-109\"/>\n     <use x=\"959.683594\" xlink:href=\"#ArialMT-105\"/>\n     <use x=\"981.900391\" xlink:href=\"#ArialMT-108\"/>\n     <use x=\"1004.117188\" xlink:href=\"#ArialMT-97\"/>\n     <use x=\"1059.732422\" xlink:href=\"#ArialMT-114\"/>\n     <use x=\"1093.033203\" xlink:href=\"#ArialMT-105\"/>\n     <use x=\"1115.25\" xlink:href=\"#ArialMT-116\"/>\n     <use x=\"1143.033203\" xlink:href=\"#ArialMT-121\"/>\n    </g>\n   </g>\n  </g>\n  <g id=\"axes_2\">\n   <g id=\"patch_3\">\n    <path clip-path=\"url(#pe33d89d60a)\" d=\"M 555.1325 241.12275 \nL 555.1325 240.273375 \nL 555.1325 24.532125 \nL 555.1325 23.68275 \nL 566.0045 23.68275 \nL 566.0045 24.532125 \nL 566.0045 240.273375 \nL 566.0045 241.12275 \nz\n\" style=\"fill:#eaeaf2;stroke:#eaeaf2;stroke-linejoin:miter;stroke-width:0.01;\"/>\n   </g>\n   <g id=\"matplotlib.axis_3\"/>\n   <g id=\"matplotlib.axis_4\">\n    <g id=\"ytick_7\">\n     <g id=\"line2d_1\">\n      <defs>\n       <path d=\"M 0 0 \nL 6 0 \n\" id=\"mfadd3055df\" style=\"stroke:#262626;stroke-width:1.25;\"/>\n      </defs>\n      <g>\n       <use style=\"fill:#262626;stroke:#262626;stroke-width:1.25;\" x=\"566.0045\" xlink:href=\"#mfadd3055df\" y=\"241.12275\"/>\n      </g>\n     </g>\n     <g id=\"text_14\">\n      <!-- 0.5 -->\n      <defs>\n       <path d=\"M 4.15625 35.296875 \nQ 4.15625 48 6.765625 55.734375 \nQ 9.375 63.484375 14.515625 67.671875 \nQ 19.671875 71.875 27.484375 71.875 \nQ 33.25 71.875 37.59375 69.546875 \nQ 41.9375 67.234375 44.765625 62.859375 \nQ 47.609375 58.5 49.21875 52.21875 \nQ 50.828125 45.953125 50.828125 35.296875 \nQ 50.828125 22.703125 48.234375 14.96875 \nQ 45.65625 7.234375 40.5 3 \nQ 35.359375 -1.21875 27.484375 -1.21875 \nQ 17.140625 -1.21875 11.234375 6.203125 \nQ 4.15625 15.140625 4.15625 35.296875 \nz\nM 13.1875 35.296875 \nQ 13.1875 17.671875 17.3125 11.828125 \nQ 21.4375 6 27.484375 6 \nQ 33.546875 6 37.671875 11.859375 \nQ 41.796875 17.71875 41.796875 35.296875 \nQ 41.796875 52.984375 37.671875 58.78125 \nQ 33.546875 64.59375 27.390625 64.59375 \nQ 21.34375 64.59375 17.71875 59.46875 \nQ 13.1875 52.9375 13.1875 35.296875 \nz\n\" id=\"ArialMT-48\"/>\n       <path d=\"M 4.15625 18.75 \nL 13.375 19.53125 \nQ 14.40625 12.796875 18.140625 9.390625 \nQ 21.875 6 27.15625 6 \nQ 33.5 6 37.890625 10.78125 \nQ 42.28125 15.578125 42.28125 23.484375 \nQ 42.28125 31 38.0625 35.34375 \nQ 33.84375 39.703125 27 39.703125 \nQ 22.75 39.703125 19.328125 37.765625 \nQ 15.921875 35.84375 13.96875 32.765625 \nL 5.71875 33.84375 \nL 12.640625 70.609375 \nL 48.25 70.609375 \nL 48.25 62.203125 \nL 19.671875 62.203125 \nL 15.828125 42.96875 \nQ 22.265625 47.46875 29.34375 47.46875 \nQ 38.71875 47.46875 45.15625 40.96875 \nQ 51.609375 34.46875 51.609375 24.265625 \nQ 51.609375 14.546875 45.953125 7.46875 \nQ 39.0625 -1.21875 27.15625 -1.21875 \nQ 17.390625 -1.21875 11.203125 4.25 \nQ 5.03125 9.71875 4.15625 18.75 \nz\n\" id=\"ArialMT-53\"/>\n      </defs>\n      <g style=\"fill:#262626;\" transform=\"translate(575.5045 245.846906)scale(0.132 -0.132)\">\n       <use xlink:href=\"#ArialMT-48\"/>\n       <use x=\"55.615234\" xlink:href=\"#ArialMT-46\"/>\n       <use x=\"83.398438\" xlink:href=\"#ArialMT-53\"/>\n      </g>\n     </g>\n    </g>\n    <g id=\"ytick_8\">\n     <g id=\"line2d_2\">\n      <g>\n       <use style=\"fill:#262626;stroke:#262626;stroke-width:1.25;\" x=\"566.0045\" xlink:href=\"#mfadd3055df\" y=\"197.63475\"/>\n      </g>\n     </g>\n     <g id=\"text_15\">\n      <!-- 0.6 -->\n      <defs>\n       <path d=\"M 49.75 54.046875 \nL 41.015625 53.375 \nQ 39.84375 58.546875 37.703125 60.890625 \nQ 34.125 64.65625 28.90625 64.65625 \nQ 24.703125 64.65625 21.53125 62.3125 \nQ 17.390625 59.28125 14.984375 53.46875 \nQ 12.59375 47.65625 12.5 36.921875 \nQ 15.671875 41.75 20.265625 44.09375 \nQ 24.859375 46.4375 29.890625 46.4375 \nQ 38.671875 46.4375 44.84375 39.96875 \nQ 51.03125 33.5 51.03125 23.25 \nQ 51.03125 16.5 48.125 10.71875 \nQ 45.21875 4.9375 40.140625 1.859375 \nQ 35.0625 -1.21875 28.609375 -1.21875 \nQ 17.625 -1.21875 10.6875 6.859375 \nQ 3.765625 14.9375 3.765625 33.5 \nQ 3.765625 54.25 11.421875 63.671875 \nQ 18.109375 71.875 29.4375 71.875 \nQ 37.890625 71.875 43.28125 67.140625 \nQ 48.6875 62.40625 49.75 54.046875 \nz\nM 13.875 23.1875 \nQ 13.875 18.65625 15.796875 14.5 \nQ 17.71875 10.359375 21.1875 8.171875 \nQ 24.65625 6 28.46875 6 \nQ 34.03125 6 38.03125 10.484375 \nQ 42.046875 14.984375 42.046875 22.703125 \nQ 42.046875 30.125 38.078125 34.390625 \nQ 34.125 38.671875 28.125 38.671875 \nQ 22.171875 38.671875 18.015625 34.390625 \nQ 13.875 30.125 13.875 23.1875 \nz\n\" id=\"ArialMT-54\"/>\n      </defs>\n      <g style=\"fill:#262626;\" transform=\"translate(575.5045 202.358906)scale(0.132 -0.132)\">\n       <use xlink:href=\"#ArialMT-48\"/>\n       <use x=\"55.615234\" xlink:href=\"#ArialMT-46\"/>\n       <use x=\"83.398438\" xlink:href=\"#ArialMT-54\"/>\n      </g>\n     </g>\n    </g>\n    <g id=\"ytick_9\">\n     <g id=\"line2d_3\">\n      <g>\n       <use style=\"fill:#262626;stroke:#262626;stroke-width:1.25;\" x=\"566.0045\" xlink:href=\"#mfadd3055df\" y=\"154.14675\"/>\n      </g>\n     </g>\n     <g id=\"text_16\">\n      <!-- 0.7 -->\n      <defs>\n       <path d=\"M 4.734375 62.203125 \nL 4.734375 70.65625 \nL 51.078125 70.65625 \nL 51.078125 63.8125 \nQ 44.234375 56.546875 37.515625 44.484375 \nQ 30.8125 32.421875 27.15625 19.671875 \nQ 24.515625 10.6875 23.78125 0 \nL 14.75 0 \nQ 14.890625 8.453125 18.0625 20.40625 \nQ 21.234375 32.375 27.171875 43.484375 \nQ 33.109375 54.59375 39.796875 62.203125 \nz\n\" id=\"ArialMT-55\"/>\n      </defs>\n      <g style=\"fill:#262626;\" transform=\"translate(575.5045 158.870906)scale(0.132 -0.132)\">\n       <use xlink:href=\"#ArialMT-48\"/>\n       <use x=\"55.615234\" xlink:href=\"#ArialMT-46\"/>\n       <use x=\"83.398438\" xlink:href=\"#ArialMT-55\"/>\n      </g>\n     </g>\n    </g>\n    <g id=\"ytick_10\">\n     <g id=\"line2d_4\">\n      <g>\n       <use style=\"fill:#262626;stroke:#262626;stroke-width:1.25;\" x=\"566.0045\" xlink:href=\"#mfadd3055df\" y=\"110.65875\"/>\n      </g>\n     </g>\n     <g id=\"text_17\">\n      <!-- 0.8 -->\n      <defs>\n       <path d=\"M 17.671875 38.8125 \nQ 12.203125 40.828125 9.5625 44.53125 \nQ 6.9375 48.25 6.9375 53.421875 \nQ 6.9375 61.234375 12.546875 66.546875 \nQ 18.171875 71.875 27.484375 71.875 \nQ 36.859375 71.875 42.578125 66.421875 \nQ 48.296875 60.984375 48.296875 53.171875 \nQ 48.296875 48.1875 45.671875 44.5 \nQ 43.0625 40.828125 37.75 38.8125 \nQ 44.34375 36.671875 47.78125 31.875 \nQ 51.21875 27.09375 51.21875 20.453125 \nQ 51.21875 11.28125 44.71875 5.03125 \nQ 38.234375 -1.21875 27.640625 -1.21875 \nQ 17.046875 -1.21875 10.546875 5.046875 \nQ 4.046875 11.328125 4.046875 20.703125 \nQ 4.046875 27.6875 7.59375 32.390625 \nQ 11.140625 37.109375 17.671875 38.8125 \nz\nM 15.921875 53.71875 \nQ 15.921875 48.640625 19.1875 45.40625 \nQ 22.46875 42.1875 27.6875 42.1875 \nQ 32.765625 42.1875 36.015625 45.375 \nQ 39.265625 48.578125 39.265625 53.21875 \nQ 39.265625 58.0625 35.90625 61.359375 \nQ 32.5625 64.65625 27.59375 64.65625 \nQ 22.5625 64.65625 19.234375 61.421875 \nQ 15.921875 58.203125 15.921875 53.71875 \nz\nM 13.09375 20.65625 \nQ 13.09375 16.890625 14.875 13.375 \nQ 16.65625 9.859375 20.171875 7.921875 \nQ 23.6875 6 27.734375 6 \nQ 34.03125 6 38.125 10.046875 \nQ 42.234375 14.109375 42.234375 20.359375 \nQ 42.234375 26.703125 38.015625 30.859375 \nQ 33.796875 35.015625 27.4375 35.015625 \nQ 21.234375 35.015625 17.15625 30.90625 \nQ 13.09375 26.8125 13.09375 20.65625 \nz\n\" id=\"ArialMT-56\"/>\n      </defs>\n      <g style=\"fill:#262626;\" transform=\"translate(575.5045 115.382906)scale(0.132 -0.132)\">\n       <use xlink:href=\"#ArialMT-48\"/>\n       <use x=\"55.615234\" xlink:href=\"#ArialMT-46\"/>\n       <use x=\"83.398438\" xlink:href=\"#ArialMT-56\"/>\n      </g>\n     </g>\n    </g>\n    <g id=\"ytick_11\">\n     <g id=\"line2d_5\">\n      <g>\n       <use style=\"fill:#262626;stroke:#262626;stroke-width:1.25;\" x=\"566.0045\" xlink:href=\"#mfadd3055df\" y=\"67.17075\"/>\n      </g>\n     </g>\n     <g id=\"text_18\">\n      <!-- 0.9 -->\n      <defs>\n       <path d=\"M 5.46875 16.546875 \nL 13.921875 17.328125 \nQ 14.984375 11.375 18.015625 8.6875 \nQ 21.046875 6 25.78125 6 \nQ 29.828125 6 32.875 7.859375 \nQ 35.9375 9.71875 37.890625 12.8125 \nQ 39.84375 15.921875 41.15625 21.1875 \nQ 42.484375 26.46875 42.484375 31.9375 \nQ 42.484375 32.515625 42.4375 33.6875 \nQ 39.796875 29.5 35.234375 26.875 \nQ 30.671875 24.265625 25.34375 24.265625 \nQ 16.453125 24.265625 10.296875 30.703125 \nQ 4.15625 37.15625 4.15625 47.703125 \nQ 4.15625 58.59375 10.578125 65.234375 \nQ 17 71.875 26.65625 71.875 \nQ 33.640625 71.875 39.421875 68.109375 \nQ 45.21875 64.359375 48.21875 57.390625 \nQ 51.21875 50.4375 51.21875 37.25 \nQ 51.21875 23.53125 48.234375 15.40625 \nQ 45.265625 7.28125 39.375 3.03125 \nQ 33.5 -1.21875 25.59375 -1.21875 \nQ 17.1875 -1.21875 11.859375 3.4375 \nQ 6.546875 8.109375 5.46875 16.546875 \nz\nM 41.453125 48.140625 \nQ 41.453125 55.71875 37.421875 60.15625 \nQ 33.40625 64.59375 27.734375 64.59375 \nQ 21.875 64.59375 17.53125 59.8125 \nQ 13.1875 55.03125 13.1875 47.40625 \nQ 13.1875 40.578125 17.3125 36.296875 \nQ 21.4375 32.03125 27.484375 32.03125 \nQ 33.59375 32.03125 37.515625 36.296875 \nQ 41.453125 40.578125 41.453125 48.140625 \nz\n\" id=\"ArialMT-57\"/>\n      </defs>\n      <g style=\"fill:#262626;\" transform=\"translate(575.5045 71.894906)scale(0.132 -0.132)\">\n       <use xlink:href=\"#ArialMT-48\"/>\n       <use x=\"55.615234\" xlink:href=\"#ArialMT-46\"/>\n       <use x=\"83.398438\" xlink:href=\"#ArialMT-57\"/>\n      </g>\n     </g>\n    </g>\n    <g id=\"ytick_12\">\n     <g id=\"line2d_6\">\n      <g>\n       <use style=\"fill:#262626;stroke:#262626;stroke-width:1.25;\" x=\"566.0045\" xlink:href=\"#mfadd3055df\" y=\"23.68275\"/>\n      </g>\n     </g>\n     <g id=\"text_19\">\n      <!-- 1.0 -->\n      <defs>\n       <path d=\"M 37.25 0 \nL 28.46875 0 \nL 28.46875 56 \nQ 25.296875 52.984375 20.140625 49.953125 \nQ 14.984375 46.921875 10.890625 45.40625 \nL 10.890625 53.90625 \nQ 18.265625 57.375 23.78125 62.296875 \nQ 29.296875 67.234375 31.59375 71.875 \nL 37.25 71.875 \nz\n\" id=\"ArialMT-49\"/>\n      </defs>\n      <g style=\"fill:#262626;\" transform=\"translate(575.5045 28.406906)scale(0.132 -0.132)\">\n       <use xlink:href=\"#ArialMT-49\"/>\n       <use x=\"55.615234\" xlink:href=\"#ArialMT-46\"/>\n       <use x=\"83.398438\" xlink:href=\"#ArialMT-48\"/>\n      </g>\n     </g>\n    </g>\n   </g>\n   <image height=\"217\" id=\"imagee223ec37e8\" transform=\"scale(1 -1)translate(0 -217)\" width=\"11\" x=\"555\" xlink:href=\"data:image/png;base64,\niVBORw0KGgoAAAANSUhEUgAAAAsAAADZCAYAAAD2WsoCAAAABHNCSVQICAgIfAhkiAAAAT5JREFUaIHtl0EKw0AMAx3Y/3+sX8ravfboKQx4Q3oWQpZkb3pVfiqavxWRXWysqE3AbRWxIgi4kGZPBnKDaGYy0IBERiLNXigz4k4S9xDNXuuYGzP6jJjfW/cLFuO2KlosbuSzBvY2xSv/iX32EkSPppigJmNrhxGBPZ8ZM+rGG/ffYM1n9LSxIs1IkMWNZLSxWPMM5u31mcg4cECAnWMdc0OT4TH3l9t9rYgMb8BbO+YM3MaqzKIbRMYMn+vxbqBbN6Sinhss7jZWrShhRs9xIjcIs6eZMZPygw9zc0DWDfJoorihZs1nsc+eZosZ+Qz+76oLG5fFTMA7NRl9bKwqIANkEivRgH1iuoNkQC9uJAP5jBL0BkQJiuVHbvSJze0GF9cEIzcQ860xnwhGbnihDBlwiGYPDL56xmjWwF+rPHcWCMC2tQAAAABJRU5ErkJggg==\" y=\"-23\"/>\n   <g id=\"patch_4\">\n    <path d=\"M 555.1325 241.12275 \nL 555.1325 240.273375 \nL 555.1325 24.532125 \nL 555.1325 23.68275 \nL 566.0045 23.68275 \nL 566.0045 24.532125 \nL 566.0045 240.273375 \nL 566.0045 241.12275 \nz\n\" style=\"fill:none;\"/>\n   </g>\n  </g>\n </g>\n <defs>\n  <clipPath id=\"p16e4553578\">\n   <rect height=\"217.44\" width=\"267.84\" x=\"270.5525\" y=\"23.68275\"/>\n  </clipPath>\n  <clipPath id=\"pe33d89d60a\">\n   <rect height=\"217.44\" width=\"10.872\" x=\"555.1325\" y=\"23.68275\"/>\n  </clipPath>\n </defs>\n</svg>\n",
      "image/png": "[encoded data removed]"
     },
     "metadata": {}
    }
   ],
   "source": [
    "sentences = [\n",
    "    # Smartphones\n",
    "    \"I like my phone\",\n",
    "    \"My phone is not good.\",\n",
    "    \n",
    "    # Weather\n",
    "    \"Recently a lot of hurricanes have hit the US\",\n",
    "    \"Global warming is real\",\n",
    "    \n",
    "    # Asking about age\n",
    "    \"How old are you?\",\n",
    "    \"what is your age?\",\n",
    "]\n",
    "run_and_plot(sentences)"
   ]
  },
  {
   "cell_type": "code",
   "execution_count": 86,
   "metadata": {
    "tags": []
   },
   "outputs": [
    {
     "output_type": "stream",
     "name": "stderr",
     "text": "100%|██████████| 6/6 [00:00<00:00, 1863.44it/s]create_single_input 0.00011157989501953125\ncreate_single_input 8.392333984375e-05\ncreate_single_input 6.699562072753906e-05\ncreate_single_input 9.34600830078125e-05\ncreate_single_input 6.031990051269531e-05\ncreate_single_input 4.553794860839844e-05\ncreate_input_array 0.006663084030151367\nCPU times: user 8.52 ms, sys: 39 µs, total: 8.56 ms\nWall time: 6.86 ms\n\n"
    }
   ],
   "source": [
    "%%time\n",
    "ip = create_input_array(sentences)"
   ]
  },
  {
   "cell_type": "code",
   "execution_count": 87,
   "metadata": {
    "tags": []
   },
   "outputs": [
    {
     "output_type": "stream",
     "name": "stdout",
     "text": "CPU times: user 1.39 s, sys: 39.9 ms, total: 1.43 s\nWall time: 352 ms\n"
    }
   ],
   "source": [
    "%%time\n",
    "pool_embs, all_embs = albert_model.predict(\n",
    "    ip\n",
    ")"
   ]
  },
  {
   "cell_type": "code",
   "execution_count": 88,
   "metadata": {},
   "outputs": [
    {
     "output_type": "execute_result",
     "data": {
      "text/plain": "['My phone is not good.',\n 'Your cellphone looks great.',\n 'Will it snow tomorrow?',\n 'Recently a lot of hurricanes have hit the US',\n 'An apple a day, keeps the doctors away',\n 'Eating strawberries is healthy']"
     },
     "metadata": {},
     "execution_count": 88
    }
   ],
   "source": [
    "sentences"
   ]
  },
  {
   "cell_type": "code",
   "execution_count": 89,
   "metadata": {},
   "outputs": [],
   "source": [
    "normalized_embedding  = tf.nn.l2_normalize(pool_embs, axis=1)"
   ]
  },
  {
   "cell_type": "code",
   "execution_count": 94,
   "metadata": {},
   "outputs": [
    {
     "output_type": "execute_result",
     "data": {
      "text/plain": "array([[0.99999976, 0.9964543 , 0.9294615 , 0.9521425 , 0.85180426,\n        0.5512831 ],\n       [0.9964543 , 0.9999999 , 0.92824733, 0.9553985 , 0.8503684 ,\n        0.56159157],\n       [0.9294615 , 0.92824733, 0.99999964, 0.92798823, 0.9475097 ,\n        0.7530533 ],\n       [0.9521425 , 0.9553985 , 0.92798823, 0.99999994, 0.88712585,\n        0.65153885],\n       [0.85180426, 0.8503684 , 0.9475097 , 0.88712585, 1.        ,\n        0.86957175],\n       [0.5512831 , 0.56159157, 0.7530533 , 0.65153885, 0.86957175,\n        1.0000001 ]], dtype=float32)"
     },
     "metadata": {},
     "execution_count": 94
    }
   ],
   "source": [
    "np.inner(normalized_embedding, normalized_embedding)"
   ]
  },
  {
   "cell_type": "code",
   "execution_count": 78,
   "metadata": {},
   "outputs": [
    {
     "output_type": "execute_result",
     "data": {
      "text/plain": "TensorShape([6, 768])"
     },
     "metadata": {},
     "execution_count": 78
    }
   ],
   "source": [
    "normalized_embedding.shape"
   ]
  },
  {
   "cell_type": "code",
   "execution_count": 79,
   "metadata": {},
   "outputs": [
    {
     "output_type": "execute_result",
     "data": {
      "text/plain": "array([[0.99999976, 0.9964543 , 0.9294615 , 0.9521425 , 0.85180426,\n        0.5512831 ],\n       [0.9964543 , 0.9999999 , 0.92824733, 0.9553985 , 0.8503684 ,\n        0.56159157],\n       [0.9294615 , 0.92824733, 0.99999964, 0.92798823, 0.9475097 ,\n        0.7530533 ],\n       [0.9521425 , 0.9553985 , 0.92798823, 0.99999994, 0.88712585,\n        0.65153885],\n       [0.85180426, 0.8503684 , 0.9475097 , 0.88712585, 1.        ,\n        0.86957175],\n       [0.5512831 , 0.56159157, 0.7530533 , 0.65153885, 0.86957175,\n        1.0000001 ]], dtype=float32)"
     },
     "metadata": {},
     "execution_count": 79
    }
   ],
   "source": [
    "np.inner(normalized_embedding, normalized_embedding)"
   ]
  },
  {
   "cell_type": "code",
   "execution_count": 48,
   "metadata": {},
   "outputs": [],
   "source": [
    "sim_mat = np.inner(normalized_embedding, normalized_embedding)"
   ]
  }
 ],
 "metadata": {
  "language_info": {
   "codemirror_mode": {
    "name": "ipython",
    "version": 3
   },
   "file_extension": ".py",
   "mimetype": "text/x-python",
   "name": "python",
   "nbconvert_exporter": "python",
   "pygments_lexer": "ipython3",
   "version": "3.8.2-final"
  },
  "orig_nbformat": 2,
  "kernelspec": {
   "name": "python38264bit4ee8fa27e2bb4f91baed6a713a2c916e",
   "display_name": "Python 3.8.2 64-bit"
  }
 },
 "nbformat": 4,
 "nbformat_minor": 2
}